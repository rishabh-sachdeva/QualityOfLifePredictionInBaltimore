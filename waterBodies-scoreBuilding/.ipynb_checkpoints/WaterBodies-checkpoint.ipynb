{
 "cells": [
  {
   "cell_type": "markdown",
   "metadata": {},
   "source": [
    "# Water Pollution Data - Preprocessing, Cleaning and Score Building"
   ]
  },
  {
   "cell_type": "code",
   "execution_count": 104,
   "metadata": {},
   "outputs": [],
   "source": [
    "import pandas as pd\n",
    "import numpy as np\n",
    "import os\n",
    "import matplotlib.pyplot as plt\n",
    "import seaborn as sns"
   ]
  },
  {
   "cell_type": "code",
   "execution_count": 47,
   "metadata": {},
   "outputs": [],
   "source": [
    "import warnings\n",
    "warnings.filterwarnings('ignore')"
   ]
  },
  {
   "cell_type": "code",
   "execution_count": 48,
   "metadata": {},
   "outputs": [],
   "source": [
    "waterStats=pd.read_csv('data\\\\E._Coli.csv')"
   ]
  },
  {
   "cell_type": "code",
   "execution_count": 49,
   "metadata": {},
   "outputs": [
    {
     "data": {
      "text/html": [
       "<div>\n",
       "<style scoped>\n",
       "    .dataframe tbody tr th:only-of-type {\n",
       "        vertical-align: middle;\n",
       "    }\n",
       "\n",
       "    .dataframe tbody tr th {\n",
       "        vertical-align: top;\n",
       "    }\n",
       "\n",
       "    .dataframe thead th {\n",
       "        text-align: right;\n",
       "    }\n",
       "</style>\n",
       "<table border=\"1\" class=\"dataframe\">\n",
       "  <thead>\n",
       "    <tr style=\"text-align: right;\">\n",
       "      <th></th>\n",
       "      <th>date</th>\n",
       "      <th>time</th>\n",
       "      <th>station</th>\n",
       "      <th>parameter</th>\n",
       "      <th>result</th>\n",
       "      <th>unit</th>\n",
       "      <th>stationLocation</th>\n",
       "    </tr>\n",
       "  </thead>\n",
       "  <tbody>\n",
       "    <tr>\n",
       "      <th>0</th>\n",
       "      <td>04/03/1995</td>\n",
       "      <td>13:30</td>\n",
       "      <td>HAMILTON AVE.</td>\n",
       "      <td>Copper, Total</td>\n",
       "      <td>10</td>\n",
       "      <td>ug/L</td>\n",
       "      <td>(39.33673, -76.53967)</td>\n",
       "    </tr>\n",
       "    <tr>\n",
       "      <th>1</th>\n",
       "      <td>04/03/1995</td>\n",
       "      <td>13:30</td>\n",
       "      <td>HAMILTON AVE.</td>\n",
       "      <td>Fecal Coliform</td>\n",
       "      <td>2400</td>\n",
       "      <td>MPN/100ml</td>\n",
       "      <td>(39.33673, -76.53967)</td>\n",
       "    </tr>\n",
       "    <tr>\n",
       "      <th>2</th>\n",
       "      <td>04/03/1995</td>\n",
       "      <td>13:30</td>\n",
       "      <td>HAMILTON AVE.</td>\n",
       "      <td>Lead, Total</td>\n",
       "      <td>40</td>\n",
       "      <td>ug/L</td>\n",
       "      <td>(39.33673, -76.53967)</td>\n",
       "    </tr>\n",
       "    <tr>\n",
       "      <th>3</th>\n",
       "      <td>04/03/1995</td>\n",
       "      <td>13:30</td>\n",
       "      <td>HAMILTON AVE.</td>\n",
       "      <td>Oil &amp; Grease</td>\n",
       "      <td>2.8</td>\n",
       "      <td>mg/L</td>\n",
       "      <td>(39.33673, -76.53967)</td>\n",
       "    </tr>\n",
       "    <tr>\n",
       "      <th>4</th>\n",
       "      <td>04/03/1995</td>\n",
       "      <td>13:30</td>\n",
       "      <td>HAMILTON AVE.</td>\n",
       "      <td>Zinc, Total</td>\n",
       "      <td>20</td>\n",
       "      <td>ug/L</td>\n",
       "      <td>(39.33673, -76.53967)</td>\n",
       "    </tr>\n",
       "  </tbody>\n",
       "</table>\n",
       "</div>"
      ],
      "text/plain": [
       "         date   time        station       parameter result       unit  \\\n",
       "0  04/03/1995  13:30  HAMILTON AVE.   Copper, Total     10       ug/L   \n",
       "1  04/03/1995  13:30  HAMILTON AVE.  Fecal Coliform   2400  MPN/100ml   \n",
       "2  04/03/1995  13:30  HAMILTON AVE.     Lead, Total     40       ug/L   \n",
       "3  04/03/1995  13:30  HAMILTON AVE.    Oil & Grease    2.8       mg/L   \n",
       "4  04/03/1995  13:30  HAMILTON AVE.     Zinc, Total     20       ug/L   \n",
       "\n",
       "         stationLocation  \n",
       "0  (39.33673, -76.53967)  \n",
       "1  (39.33673, -76.53967)  \n",
       "2  (39.33673, -76.53967)  \n",
       "3  (39.33673, -76.53967)  \n",
       "4  (39.33673, -76.53967)  "
      ]
     },
     "execution_count": 49,
     "metadata": {},
     "output_type": "execute_result"
    }
   ],
   "source": [
    "waterStats.head()"
   ]
  },
  {
   "cell_type": "code",
   "execution_count": 50,
   "metadata": {},
   "outputs": [
    {
     "data": {
      "text/html": [
       "<div>\n",
       "<style scoped>\n",
       "    .dataframe tbody tr th:only-of-type {\n",
       "        vertical-align: middle;\n",
       "    }\n",
       "\n",
       "    .dataframe tbody tr th {\n",
       "        vertical-align: top;\n",
       "    }\n",
       "\n",
       "    .dataframe thead th {\n",
       "        text-align: right;\n",
       "    }\n",
       "</style>\n",
       "<table border=\"1\" class=\"dataframe\">\n",
       "  <thead>\n",
       "    <tr style=\"text-align: right;\">\n",
       "      <th></th>\n",
       "      <th>date</th>\n",
       "      <th>time</th>\n",
       "      <th>station</th>\n",
       "      <th>parameter</th>\n",
       "      <th>result</th>\n",
       "      <th>unit</th>\n",
       "      <th>stationLocation</th>\n",
       "    </tr>\n",
       "  </thead>\n",
       "  <tbody>\n",
       "    <tr>\n",
       "      <th>0</th>\n",
       "      <td>04/03/1995</td>\n",
       "      <td>13:30</td>\n",
       "      <td>HAMILTON AVE.</td>\n",
       "      <td>Copper, Total</td>\n",
       "      <td>10</td>\n",
       "      <td>ug/L</td>\n",
       "      <td>(39.33673, -76.53967)</td>\n",
       "    </tr>\n",
       "    <tr>\n",
       "      <th>1</th>\n",
       "      <td>04/03/1995</td>\n",
       "      <td>13:30</td>\n",
       "      <td>HAMILTON AVE.</td>\n",
       "      <td>Fecal Coliform</td>\n",
       "      <td>2400</td>\n",
       "      <td>MPN/100ml</td>\n",
       "      <td>(39.33673, -76.53967)</td>\n",
       "    </tr>\n",
       "    <tr>\n",
       "      <th>2</th>\n",
       "      <td>04/03/1995</td>\n",
       "      <td>13:30</td>\n",
       "      <td>HAMILTON AVE.</td>\n",
       "      <td>Lead, Total</td>\n",
       "      <td>40</td>\n",
       "      <td>ug/L</td>\n",
       "      <td>(39.33673, -76.53967)</td>\n",
       "    </tr>\n",
       "    <tr>\n",
       "      <th>3</th>\n",
       "      <td>04/03/1995</td>\n",
       "      <td>13:30</td>\n",
       "      <td>HAMILTON AVE.</td>\n",
       "      <td>Oil &amp; Grease</td>\n",
       "      <td>2.8</td>\n",
       "      <td>mg/L</td>\n",
       "      <td>(39.33673, -76.53967)</td>\n",
       "    </tr>\n",
       "    <tr>\n",
       "      <th>4</th>\n",
       "      <td>04/03/1995</td>\n",
       "      <td>13:30</td>\n",
       "      <td>HAMILTON AVE.</td>\n",
       "      <td>Zinc, Total</td>\n",
       "      <td>20</td>\n",
       "      <td>ug/L</td>\n",
       "      <td>(39.33673, -76.53967)</td>\n",
       "    </tr>\n",
       "  </tbody>\n",
       "</table>\n",
       "</div>"
      ],
      "text/plain": [
       "         date   time        station       parameter result       unit  \\\n",
       "0  04/03/1995  13:30  HAMILTON AVE.   Copper, Total     10       ug/L   \n",
       "1  04/03/1995  13:30  HAMILTON AVE.  Fecal Coliform   2400  MPN/100ml   \n",
       "2  04/03/1995  13:30  HAMILTON AVE.     Lead, Total     40       ug/L   \n",
       "3  04/03/1995  13:30  HAMILTON AVE.    Oil & Grease    2.8       mg/L   \n",
       "4  04/03/1995  13:30  HAMILTON AVE.     Zinc, Total     20       ug/L   \n",
       "\n",
       "         stationLocation  \n",
       "0  (39.33673, -76.53967)  \n",
       "1  (39.33673, -76.53967)  \n",
       "2  (39.33673, -76.53967)  \n",
       "3  (39.33673, -76.53967)  \n",
       "4  (39.33673, -76.53967)  "
      ]
     },
     "execution_count": 50,
     "metadata": {},
     "output_type": "execute_result"
    }
   ],
   "source": [
    "waterStats.head()"
   ]
  },
  {
   "cell_type": "markdown",
   "metadata": {},
   "source": [
    "### Checking parameter data to select the relevant features to be picked"
   ]
  },
  {
   "cell_type": "code",
   "execution_count": 51,
   "metadata": {
    "scrolled": true
   },
   "outputs": [
    {
     "data": {
      "text/html": [
       "<div>\n",
       "<style scoped>\n",
       "    .dataframe tbody tr th:only-of-type {\n",
       "        vertical-align: middle;\n",
       "    }\n",
       "\n",
       "    .dataframe tbody tr th {\n",
       "        vertical-align: top;\n",
       "    }\n",
       "\n",
       "    .dataframe thead th {\n",
       "        text-align: right;\n",
       "    }\n",
       "</style>\n",
       "<table border=\"1\" class=\"dataframe\">\n",
       "  <thead>\n",
       "    <tr style=\"text-align: right;\">\n",
       "      <th></th>\n",
       "      <th>date</th>\n",
       "      <th>time</th>\n",
       "      <th>station</th>\n",
       "      <th>result</th>\n",
       "      <th>unit</th>\n",
       "      <th>stationLocation</th>\n",
       "    </tr>\n",
       "    <tr>\n",
       "      <th>parameter</th>\n",
       "      <th></th>\n",
       "      <th></th>\n",
       "      <th></th>\n",
       "      <th></th>\n",
       "      <th></th>\n",
       "      <th></th>\n",
       "    </tr>\n",
       "  </thead>\n",
       "  <tbody>\n",
       "    <tr>\n",
       "      <th>Ammonia-Nitrogen</th>\n",
       "      <td>4606</td>\n",
       "      <td>4606</td>\n",
       "      <td>4606</td>\n",
       "      <td>4606</td>\n",
       "      <td>4606</td>\n",
       "      <td>4603</td>\n",
       "    </tr>\n",
       "    <tr>\n",
       "      <th>Antimony, Dissolved</th>\n",
       "      <td>458</td>\n",
       "      <td>458</td>\n",
       "      <td>458</td>\n",
       "      <td>458</td>\n",
       "      <td>458</td>\n",
       "      <td>457</td>\n",
       "    </tr>\n",
       "    <tr>\n",
       "      <th>Antimony, Total</th>\n",
       "      <td>2692</td>\n",
       "      <td>2692</td>\n",
       "      <td>2692</td>\n",
       "      <td>2692</td>\n",
       "      <td>2692</td>\n",
       "      <td>2690</td>\n",
       "    </tr>\n",
       "    <tr>\n",
       "      <th>Arsenic, Dissolved</th>\n",
       "      <td>455</td>\n",
       "      <td>455</td>\n",
       "      <td>455</td>\n",
       "      <td>455</td>\n",
       "      <td>455</td>\n",
       "      <td>454</td>\n",
       "    </tr>\n",
       "    <tr>\n",
       "      <th>Arsenic, Total</th>\n",
       "      <td>2709</td>\n",
       "      <td>2709</td>\n",
       "      <td>2709</td>\n",
       "      <td>2709</td>\n",
       "      <td>2709</td>\n",
       "      <td>2707</td>\n",
       "    </tr>\n",
       "    <tr>\n",
       "      <th>BOD5</th>\n",
       "      <td>4224</td>\n",
       "      <td>4224</td>\n",
       "      <td>4224</td>\n",
       "      <td>4224</td>\n",
       "      <td>4224</td>\n",
       "      <td>4222</td>\n",
       "    </tr>\n",
       "    <tr>\n",
       "      <th>COD</th>\n",
       "      <td>7586</td>\n",
       "      <td>7586</td>\n",
       "      <td>7586</td>\n",
       "      <td>7586</td>\n",
       "      <td>7586</td>\n",
       "      <td>7584</td>\n",
       "    </tr>\n",
       "    <tr>\n",
       "      <th>Cadmium, Dissolved</th>\n",
       "      <td>617</td>\n",
       "      <td>617</td>\n",
       "      <td>617</td>\n",
       "      <td>617</td>\n",
       "      <td>617</td>\n",
       "      <td>616</td>\n",
       "    </tr>\n",
       "    <tr>\n",
       "      <th>Cadmium, Total</th>\n",
       "      <td>3111</td>\n",
       "      <td>3111</td>\n",
       "      <td>3111</td>\n",
       "      <td>3111</td>\n",
       "      <td>3111</td>\n",
       "      <td>3109</td>\n",
       "    </tr>\n",
       "    <tr>\n",
       "      <th>Chloride</th>\n",
       "      <td>8116</td>\n",
       "      <td>8116</td>\n",
       "      <td>8116</td>\n",
       "      <td>8116</td>\n",
       "      <td>8116</td>\n",
       "      <td>8110</td>\n",
       "    </tr>\n",
       "    <tr>\n",
       "      <th>Chlorine</th>\n",
       "      <td>4713</td>\n",
       "      <td>4685</td>\n",
       "      <td>4713</td>\n",
       "      <td>4713</td>\n",
       "      <td>4713</td>\n",
       "      <td>4706</td>\n",
       "    </tr>\n",
       "    <tr>\n",
       "      <th>Chlorine_Spec</th>\n",
       "      <td>28054</td>\n",
       "      <td>27988</td>\n",
       "      <td>28054</td>\n",
       "      <td>28054</td>\n",
       "      <td>28054</td>\n",
       "      <td>28054</td>\n",
       "    </tr>\n",
       "    <tr>\n",
       "      <th>Chromium, Dissolved</th>\n",
       "      <td>727</td>\n",
       "      <td>727</td>\n",
       "      <td>727</td>\n",
       "      <td>727</td>\n",
       "      <td>727</td>\n",
       "      <td>726</td>\n",
       "    </tr>\n",
       "    <tr>\n",
       "      <th>Chromium, Total</th>\n",
       "      <td>3609</td>\n",
       "      <td>3609</td>\n",
       "      <td>3609</td>\n",
       "      <td>3609</td>\n",
       "      <td>3609</td>\n",
       "      <td>3607</td>\n",
       "    </tr>\n",
       "    <tr>\n",
       "      <th>Conductivity</th>\n",
       "      <td>37695</td>\n",
       "      <td>37644</td>\n",
       "      <td>37695</td>\n",
       "      <td>37695</td>\n",
       "      <td>37695</td>\n",
       "      <td>37684</td>\n",
       "    </tr>\n",
       "    <tr>\n",
       "      <th>Copper, Dissolved</th>\n",
       "      <td>1812</td>\n",
       "      <td>1812</td>\n",
       "      <td>1812</td>\n",
       "      <td>1812</td>\n",
       "      <td>1812</td>\n",
       "      <td>1811</td>\n",
       "    </tr>\n",
       "    <tr>\n",
       "      <th>Copper, Total</th>\n",
       "      <td>6776</td>\n",
       "      <td>6776</td>\n",
       "      <td>6776</td>\n",
       "      <td>6776</td>\n",
       "      <td>6776</td>\n",
       "      <td>6774</td>\n",
       "    </tr>\n",
       "    <tr>\n",
       "      <th>Dissolved Oxygen</th>\n",
       "      <td>26784</td>\n",
       "      <td>26735</td>\n",
       "      <td>26784</td>\n",
       "      <td>26784</td>\n",
       "      <td>26784</td>\n",
       "      <td>26783</td>\n",
       "    </tr>\n",
       "    <tr>\n",
       "      <th>E. Coli</th>\n",
       "      <td>2655</td>\n",
       "      <td>2653</td>\n",
       "      <td>2655</td>\n",
       "      <td>2655</td>\n",
       "      <td>2655</td>\n",
       "      <td>2655</td>\n",
       "    </tr>\n",
       "    <tr>\n",
       "      <th>EColi_Coliscan</th>\n",
       "      <td>12</td>\n",
       "      <td>12</td>\n",
       "      <td>12</td>\n",
       "      <td>12</td>\n",
       "      <td>12</td>\n",
       "      <td>12</td>\n",
       "    </tr>\n",
       "    <tr>\n",
       "      <th>EColi_IDEXX</th>\n",
       "      <td>30</td>\n",
       "      <td>29</td>\n",
       "      <td>30</td>\n",
       "      <td>30</td>\n",
       "      <td>30</td>\n",
       "      <td>30</td>\n",
       "    </tr>\n",
       "    <tr>\n",
       "      <th>Enterococcus</th>\n",
       "      <td>1825</td>\n",
       "      <td>1821</td>\n",
       "      <td>1825</td>\n",
       "      <td>1825</td>\n",
       "      <td>1825</td>\n",
       "      <td>1825</td>\n",
       "    </tr>\n",
       "    <tr>\n",
       "      <th>Fecal Coliform</th>\n",
       "      <td>4427</td>\n",
       "      <td>4427</td>\n",
       "      <td>4427</td>\n",
       "      <td>4427</td>\n",
       "      <td>4427</td>\n",
       "      <td>4422</td>\n",
       "    </tr>\n",
       "    <tr>\n",
       "      <th>Flag_NH3</th>\n",
       "      <td>269</td>\n",
       "      <td>266</td>\n",
       "      <td>269</td>\n",
       "      <td>269</td>\n",
       "      <td>0</td>\n",
       "      <td>269</td>\n",
       "    </tr>\n",
       "    <tr>\n",
       "      <th>Fluoride</th>\n",
       "      <td>8039</td>\n",
       "      <td>8039</td>\n",
       "      <td>8039</td>\n",
       "      <td>8039</td>\n",
       "      <td>8039</td>\n",
       "      <td>8033</td>\n",
       "    </tr>\n",
       "    <tr>\n",
       "      <th>Hach Ammonia Std Read</th>\n",
       "      <td>4657</td>\n",
       "      <td>4609</td>\n",
       "      <td>4657</td>\n",
       "      <td>4657</td>\n",
       "      <td>4657</td>\n",
       "      <td>4656</td>\n",
       "    </tr>\n",
       "    <tr>\n",
       "      <th>Hach Ammonia-Nitrogen</th>\n",
       "      <td>18029</td>\n",
       "      <td>18027</td>\n",
       "      <td>18029</td>\n",
       "      <td>18029</td>\n",
       "      <td>18029</td>\n",
       "      <td>18023</td>\n",
       "    </tr>\n",
       "    <tr>\n",
       "      <th>Hach_Ammonia_Nitrogen</th>\n",
       "      <td>17827</td>\n",
       "      <td>17668</td>\n",
       "      <td>17827</td>\n",
       "      <td>17827</td>\n",
       "      <td>17827</td>\n",
       "      <td>17826</td>\n",
       "    </tr>\n",
       "    <tr>\n",
       "      <th>Hardness</th>\n",
       "      <td>2846</td>\n",
       "      <td>2845</td>\n",
       "      <td>2846</td>\n",
       "      <td>2846</td>\n",
       "      <td>2846</td>\n",
       "      <td>2846</td>\n",
       "    </tr>\n",
       "    <tr>\n",
       "      <th>Hatch Ammonia Std Used</th>\n",
       "      <td>4657</td>\n",
       "      <td>4609</td>\n",
       "      <td>4657</td>\n",
       "      <td>4657</td>\n",
       "      <td>4657</td>\n",
       "      <td>4656</td>\n",
       "    </tr>\n",
       "    <tr>\n",
       "      <th>Lead, Dissolved</th>\n",
       "      <td>1779</td>\n",
       "      <td>1779</td>\n",
       "      <td>1779</td>\n",
       "      <td>1779</td>\n",
       "      <td>1779</td>\n",
       "      <td>1778</td>\n",
       "    </tr>\n",
       "    <tr>\n",
       "      <th>Lead, Total</th>\n",
       "      <td>6775</td>\n",
       "      <td>6775</td>\n",
       "      <td>6775</td>\n",
       "      <td>6775</td>\n",
       "      <td>6775</td>\n",
       "      <td>6773</td>\n",
       "    </tr>\n",
       "    <tr>\n",
       "      <th>Maximum Depth</th>\n",
       "      <td>2</td>\n",
       "      <td>2</td>\n",
       "      <td>2</td>\n",
       "      <td>2</td>\n",
       "      <td>2</td>\n",
       "      <td>2</td>\n",
       "    </tr>\n",
       "    <tr>\n",
       "      <th>Nitrate+Nitrite-Nitrogen</th>\n",
       "      <td>8142</td>\n",
       "      <td>8141</td>\n",
       "      <td>8142</td>\n",
       "      <td>8142</td>\n",
       "      <td>8142</td>\n",
       "      <td>8140</td>\n",
       "    </tr>\n",
       "    <tr>\n",
       "      <th>Oil &amp; Grease</th>\n",
       "      <td>339</td>\n",
       "      <td>339</td>\n",
       "      <td>339</td>\n",
       "      <td>339</td>\n",
       "      <td>339</td>\n",
       "      <td>339</td>\n",
       "    </tr>\n",
       "    <tr>\n",
       "      <th>Ortho-Phosphate</th>\n",
       "      <td>1298</td>\n",
       "      <td>1298</td>\n",
       "      <td>1298</td>\n",
       "      <td>1298</td>\n",
       "      <td>1298</td>\n",
       "      <td>1297</td>\n",
       "    </tr>\n",
       "    <tr>\n",
       "      <th>SGT-HEM</th>\n",
       "      <td>52</td>\n",
       "      <td>52</td>\n",
       "      <td>52</td>\n",
       "      <td>52</td>\n",
       "      <td>52</td>\n",
       "      <td>52</td>\n",
       "    </tr>\n",
       "    <tr>\n",
       "      <th>Secchi Disk</th>\n",
       "      <td>95</td>\n",
       "      <td>95</td>\n",
       "      <td>95</td>\n",
       "      <td>95</td>\n",
       "      <td>95</td>\n",
       "      <td>94</td>\n",
       "    </tr>\n",
       "    <tr>\n",
       "      <th>Secchi Disk Depth</th>\n",
       "      <td>9</td>\n",
       "      <td>9</td>\n",
       "      <td>9</td>\n",
       "      <td>9</td>\n",
       "      <td>9</td>\n",
       "      <td>8</td>\n",
       "    </tr>\n",
       "    <tr>\n",
       "      <th>Sodium</th>\n",
       "      <td>677</td>\n",
       "      <td>677</td>\n",
       "      <td>677</td>\n",
       "      <td>677</td>\n",
       "      <td>677</td>\n",
       "      <td>677</td>\n",
       "    </tr>\n",
       "    <tr>\n",
       "      <th>Stage</th>\n",
       "      <td>895</td>\n",
       "      <td>895</td>\n",
       "      <td>895</td>\n",
       "      <td>895</td>\n",
       "      <td>0</td>\n",
       "      <td>895</td>\n",
       "    </tr>\n",
       "    <tr>\n",
       "      <th>Suspended Solids</th>\n",
       "      <td>9355</td>\n",
       "      <td>9355</td>\n",
       "      <td>9355</td>\n",
       "      <td>9355</td>\n",
       "      <td>9355</td>\n",
       "      <td>9347</td>\n",
       "    </tr>\n",
       "    <tr>\n",
       "      <th>TKN</th>\n",
       "      <td>8149</td>\n",
       "      <td>8148</td>\n",
       "      <td>8149</td>\n",
       "      <td>8149</td>\n",
       "      <td>8149</td>\n",
       "      <td>8147</td>\n",
       "    </tr>\n",
       "    <tr>\n",
       "      <th>Total Coliform</th>\n",
       "      <td>3759</td>\n",
       "      <td>3759</td>\n",
       "      <td>3759</td>\n",
       "      <td>3759</td>\n",
       "      <td>3759</td>\n",
       "      <td>3757</td>\n",
       "    </tr>\n",
       "    <tr>\n",
       "      <th>Total Petroleum Hydrocarbons</th>\n",
       "      <td>130</td>\n",
       "      <td>130</td>\n",
       "      <td>130</td>\n",
       "      <td>130</td>\n",
       "      <td>130</td>\n",
       "      <td>130</td>\n",
       "    </tr>\n",
       "    <tr>\n",
       "      <th>Total Phenolics</th>\n",
       "      <td>199</td>\n",
       "      <td>199</td>\n",
       "      <td>199</td>\n",
       "      <td>199</td>\n",
       "      <td>199</td>\n",
       "      <td>199</td>\n",
       "    </tr>\n",
       "    <tr>\n",
       "      <th>Total Phosphorus</th>\n",
       "      <td>8133</td>\n",
       "      <td>8132</td>\n",
       "      <td>8133</td>\n",
       "      <td>8133</td>\n",
       "      <td>8133</td>\n",
       "      <td>8131</td>\n",
       "    </tr>\n",
       "    <tr>\n",
       "      <th>Turbidity</th>\n",
       "      <td>1424</td>\n",
       "      <td>1424</td>\n",
       "      <td>1424</td>\n",
       "      <td>1424</td>\n",
       "      <td>1424</td>\n",
       "      <td>1424</td>\n",
       "    </tr>\n",
       "    <tr>\n",
       "      <th>Volatile Suspended Solids</th>\n",
       "      <td>9</td>\n",
       "      <td>9</td>\n",
       "      <td>9</td>\n",
       "      <td>9</td>\n",
       "      <td>9</td>\n",
       "      <td>9</td>\n",
       "    </tr>\n",
       "    <tr>\n",
       "      <th>Water Temperature</th>\n",
       "      <td>18443</td>\n",
       "      <td>18442</td>\n",
       "      <td>18443</td>\n",
       "      <td>18443</td>\n",
       "      <td>18443</td>\n",
       "      <td>18437</td>\n",
       "    </tr>\n",
       "    <tr>\n",
       "      <th>Water temperature</th>\n",
       "      <td>15382</td>\n",
       "      <td>15312</td>\n",
       "      <td>15382</td>\n",
       "      <td>15382</td>\n",
       "      <td>15382</td>\n",
       "      <td>15381</td>\n",
       "    </tr>\n",
       "    <tr>\n",
       "      <th>Zinc, Dissolved</th>\n",
       "      <td>1810</td>\n",
       "      <td>1810</td>\n",
       "      <td>1810</td>\n",
       "      <td>1810</td>\n",
       "      <td>1810</td>\n",
       "      <td>1809</td>\n",
       "    </tr>\n",
       "    <tr>\n",
       "      <th>Zinc, Total</th>\n",
       "      <td>6770</td>\n",
       "      <td>6770</td>\n",
       "      <td>6770</td>\n",
       "      <td>6770</td>\n",
       "      <td>6770</td>\n",
       "      <td>6768</td>\n",
       "    </tr>\n",
       "    <tr>\n",
       "      <th>chlorine</th>\n",
       "      <td>1</td>\n",
       "      <td>1</td>\n",
       "      <td>1</td>\n",
       "      <td>1</td>\n",
       "      <td>1</td>\n",
       "      <td>1</td>\n",
       "    </tr>\n",
       "    <tr>\n",
       "      <th>pH</th>\n",
       "      <td>32229</td>\n",
       "      <td>32158</td>\n",
       "      <td>32229</td>\n",
       "      <td>32229</td>\n",
       "      <td>32229</td>\n",
       "      <td>32222</td>\n",
       "    </tr>\n",
       "  </tbody>\n",
       "</table>\n",
       "</div>"
      ],
      "text/plain": [
       "                               date   time  station  result   unit  \\\n",
       "parameter                                                            \n",
       "Ammonia-Nitrogen               4606   4606     4606    4606   4606   \n",
       "Antimony, Dissolved             458    458      458     458    458   \n",
       "Antimony, Total                2692   2692     2692    2692   2692   \n",
       "Arsenic, Dissolved              455    455      455     455    455   \n",
       "Arsenic, Total                 2709   2709     2709    2709   2709   \n",
       "BOD5                           4224   4224     4224    4224   4224   \n",
       "COD                            7586   7586     7586    7586   7586   \n",
       "Cadmium, Dissolved              617    617      617     617    617   \n",
       "Cadmium, Total                 3111   3111     3111    3111   3111   \n",
       "Chloride                       8116   8116     8116    8116   8116   \n",
       "Chlorine                       4713   4685     4713    4713   4713   \n",
       "Chlorine_Spec                 28054  27988    28054   28054  28054   \n",
       "Chromium, Dissolved             727    727      727     727    727   \n",
       "Chromium, Total                3609   3609     3609    3609   3609   \n",
       "Conductivity                  37695  37644    37695   37695  37695   \n",
       "Copper, Dissolved              1812   1812     1812    1812   1812   \n",
       "Copper, Total                  6776   6776     6776    6776   6776   \n",
       "Dissolved Oxygen              26784  26735    26784   26784  26784   \n",
       "E. Coli                        2655   2653     2655    2655   2655   \n",
       "EColi_Coliscan                   12     12       12      12     12   \n",
       "EColi_IDEXX                      30     29       30      30     30   \n",
       "Enterococcus                   1825   1821     1825    1825   1825   \n",
       "Fecal Coliform                 4427   4427     4427    4427   4427   \n",
       "Flag_NH3                        269    266      269     269      0   \n",
       "Fluoride                       8039   8039     8039    8039   8039   \n",
       "Hach Ammonia Std Read          4657   4609     4657    4657   4657   \n",
       "Hach Ammonia-Nitrogen         18029  18027    18029   18029  18029   \n",
       "Hach_Ammonia_Nitrogen         17827  17668    17827   17827  17827   \n",
       "Hardness                       2846   2845     2846    2846   2846   \n",
       "Hatch Ammonia Std Used         4657   4609     4657    4657   4657   \n",
       "Lead, Dissolved                1779   1779     1779    1779   1779   \n",
       "Lead, Total                    6775   6775     6775    6775   6775   \n",
       "Maximum Depth                     2      2        2       2      2   \n",
       "Nitrate+Nitrite-Nitrogen       8142   8141     8142    8142   8142   \n",
       "Oil & Grease                    339    339      339     339    339   \n",
       "Ortho-Phosphate                1298   1298     1298    1298   1298   \n",
       "SGT-HEM                          52     52       52      52     52   \n",
       "Secchi Disk                      95     95       95      95     95   \n",
       "Secchi Disk Depth                 9      9        9       9      9   \n",
       "Sodium                          677    677      677     677    677   \n",
       "Stage                           895    895      895     895      0   \n",
       "Suspended Solids               9355   9355     9355    9355   9355   \n",
       "TKN                            8149   8148     8149    8149   8149   \n",
       "Total Coliform                 3759   3759     3759    3759   3759   \n",
       "Total Petroleum Hydrocarbons    130    130      130     130    130   \n",
       "Total Phenolics                 199    199      199     199    199   \n",
       "Total Phosphorus               8133   8132     8133    8133   8133   \n",
       "Turbidity                      1424   1424     1424    1424   1424   \n",
       "Volatile Suspended Solids         9      9        9       9      9   \n",
       "Water Temperature             18443  18442    18443   18443  18443   \n",
       "Water temperature             15382  15312    15382   15382  15382   \n",
       "Zinc, Dissolved                1810   1810     1810    1810   1810   \n",
       "Zinc, Total                    6770   6770     6770    6770   6770   \n",
       "chlorine                          1      1        1       1      1   \n",
       "pH                            32229  32158    32229   32229  32229   \n",
       "\n",
       "                              stationLocation  \n",
       "parameter                                      \n",
       "Ammonia-Nitrogen                         4603  \n",
       "Antimony, Dissolved                       457  \n",
       "Antimony, Total                          2690  \n",
       "Arsenic, Dissolved                        454  \n",
       "Arsenic, Total                           2707  \n",
       "BOD5                                     4222  \n",
       "COD                                      7584  \n",
       "Cadmium, Dissolved                        616  \n",
       "Cadmium, Total                           3109  \n",
       "Chloride                                 8110  \n",
       "Chlorine                                 4706  \n",
       "Chlorine_Spec                           28054  \n",
       "Chromium, Dissolved                       726  \n",
       "Chromium, Total                          3607  \n",
       "Conductivity                            37684  \n",
       "Copper, Dissolved                        1811  \n",
       "Copper, Total                            6774  \n",
       "Dissolved Oxygen                        26783  \n",
       "E. Coli                                  2655  \n",
       "EColi_Coliscan                             12  \n",
       "EColi_IDEXX                                30  \n",
       "Enterococcus                             1825  \n",
       "Fecal Coliform                           4422  \n",
       "Flag_NH3                                  269  \n",
       "Fluoride                                 8033  \n",
       "Hach Ammonia Std Read                    4656  \n",
       "Hach Ammonia-Nitrogen                   18023  \n",
       "Hach_Ammonia_Nitrogen                   17826  \n",
       "Hardness                                 2846  \n",
       "Hatch Ammonia Std Used                   4656  \n",
       "Lead, Dissolved                          1778  \n",
       "Lead, Total                              6773  \n",
       "Maximum Depth                               2  \n",
       "Nitrate+Nitrite-Nitrogen                 8140  \n",
       "Oil & Grease                              339  \n",
       "Ortho-Phosphate                          1297  \n",
       "SGT-HEM                                    52  \n",
       "Secchi Disk                                94  \n",
       "Secchi Disk Depth                           8  \n",
       "Sodium                                    677  \n",
       "Stage                                     895  \n",
       "Suspended Solids                         9347  \n",
       "TKN                                      8147  \n",
       "Total Coliform                           3757  \n",
       "Total Petroleum Hydrocarbons              130  \n",
       "Total Phenolics                           199  \n",
       "Total Phosphorus                         8131  \n",
       "Turbidity                                1424  \n",
       "Volatile Suspended Solids                   9  \n",
       "Water Temperature                       18437  \n",
       "Water temperature                       15381  \n",
       "Zinc, Dissolved                          1809  \n",
       "Zinc, Total                              6768  \n",
       "chlorine                                    1  \n",
       "pH                                      32222  "
      ]
     },
     "execution_count": 51,
     "metadata": {},
     "output_type": "execute_result"
    }
   ],
   "source": [
    "waterStats.groupby(['parameter']).count()"
   ]
  },
  {
   "cell_type": "markdown",
   "metadata": {},
   "source": [
    "### Create individual data frames for each attribute"
   ]
  },
  {
   "cell_type": "code",
   "execution_count": 52,
   "metadata": {},
   "outputs": [],
   "source": [
    "waterStatspH = waterStats.loc[waterStats['parameter']=='pH']"
   ]
  },
  {
   "cell_type": "code",
   "execution_count": 53,
   "metadata": {},
   "outputs": [],
   "source": [
    "waterStatsLead = waterStats.loc[waterStats['parameter']=='Lead, Total']"
   ]
  },
  {
   "cell_type": "code",
   "execution_count": 156,
   "metadata": {},
   "outputs": [],
   "source": [
    "waterStatsOxygen = waterStats.loc[waterStats['parameter']=='Dissolved Oxygen']"
   ]
  },
  {
   "cell_type": "code",
   "execution_count": 54,
   "metadata": {},
   "outputs": [],
   "source": [
    "waterStatsSuspendedSolids = waterStats.loc[waterStats['parameter']=='Suspended Solids']"
   ]
  },
  {
   "cell_type": "code",
   "execution_count": 55,
   "metadata": {},
   "outputs": [],
   "source": [
    "waterStatsZinc = waterStats.loc[waterStats['parameter']=='Zinc, Total']"
   ]
  },
  {
   "cell_type": "code",
   "execution_count": 56,
   "metadata": {},
   "outputs": [],
   "source": [
    "waterStatspH['result']=waterStatspH['result'].apply(np.double)"
   ]
  },
  {
   "cell_type": "code",
   "execution_count": 57,
   "metadata": {},
   "outputs": [],
   "source": [
    "waterStatspH.date = pd.to_datetime(waterStatspH.date)"
   ]
  },
  {
   "cell_type": "code",
   "execution_count": 58,
   "metadata": {},
   "outputs": [
    {
     "data": {
      "text/html": [
       "<div>\n",
       "<style scoped>\n",
       "    .dataframe tbody tr th:only-of-type {\n",
       "        vertical-align: middle;\n",
       "    }\n",
       "\n",
       "    .dataframe tbody tr th {\n",
       "        vertical-align: top;\n",
       "    }\n",
       "\n",
       "    .dataframe thead th {\n",
       "        text-align: right;\n",
       "    }\n",
       "</style>\n",
       "<table border=\"1\" class=\"dataframe\">\n",
       "  <thead>\n",
       "    <tr style=\"text-align: right;\">\n",
       "      <th></th>\n",
       "      <th>date</th>\n",
       "      <th>time</th>\n",
       "      <th>station</th>\n",
       "      <th>parameter</th>\n",
       "      <th>result</th>\n",
       "      <th>unit</th>\n",
       "      <th>stationLocation</th>\n",
       "    </tr>\n",
       "  </thead>\n",
       "  <tbody>\n",
       "    <tr>\n",
       "      <th>297</th>\n",
       "      <td>1995-07-24</td>\n",
       "      <td>12:15</td>\n",
       "      <td>RADECKE AVE.</td>\n",
       "      <td>pH</td>\n",
       "      <td>7.3</td>\n",
       "      <td>pH units</td>\n",
       "      <td>(39.33036, -76.53478)</td>\n",
       "    </tr>\n",
       "    <tr>\n",
       "      <th>311</th>\n",
       "      <td>1995-07-24</td>\n",
       "      <td>12:45</td>\n",
       "      <td>HAMILTON AVE.</td>\n",
       "      <td>pH</td>\n",
       "      <td>7.3</td>\n",
       "      <td>pH units</td>\n",
       "      <td>(39.33673, -76.53967)</td>\n",
       "    </tr>\n",
       "    <tr>\n",
       "      <th>325</th>\n",
       "      <td>1995-07-24</td>\n",
       "      <td>14:15</td>\n",
       "      <td>BRANCH AVE.</td>\n",
       "      <td>pH</td>\n",
       "      <td>7.5</td>\n",
       "      <td>pH units</td>\n",
       "      <td>(39.340575, -76.542373)</td>\n",
       "    </tr>\n",
       "    <tr>\n",
       "      <th>339</th>\n",
       "      <td>1995-07-24</td>\n",
       "      <td>14:45</td>\n",
       "      <td>MARY AVE.</td>\n",
       "      <td>pH</td>\n",
       "      <td>7.0</td>\n",
       "      <td>pH units</td>\n",
       "      <td>(39.343655, -76.541122)</td>\n",
       "    </tr>\n",
       "    <tr>\n",
       "      <th>353</th>\n",
       "      <td>1995-08-08</td>\n",
       "      <td>10:15</td>\n",
       "      <td>MARY AVE.</td>\n",
       "      <td>pH</td>\n",
       "      <td>7.5</td>\n",
       "      <td>pH units</td>\n",
       "      <td>(39.343655, -76.541122)</td>\n",
       "    </tr>\n",
       "  </tbody>\n",
       "</table>\n",
       "</div>"
      ],
      "text/plain": [
       "          date   time        station parameter  result      unit  \\\n",
       "297 1995-07-24  12:15   RADECKE AVE.        pH     7.3  pH units   \n",
       "311 1995-07-24  12:45  HAMILTON AVE.        pH     7.3  pH units   \n",
       "325 1995-07-24  14:15    BRANCH AVE.        pH     7.5  pH units   \n",
       "339 1995-07-24  14:45      MARY AVE.        pH     7.0  pH units   \n",
       "353 1995-08-08  10:15      MARY AVE.        pH     7.5  pH units   \n",
       "\n",
       "             stationLocation  \n",
       "297    (39.33036, -76.53478)  \n",
       "311    (39.33673, -76.53967)  \n",
       "325  (39.340575, -76.542373)  \n",
       "339  (39.343655, -76.541122)  \n",
       "353  (39.343655, -76.541122)  "
      ]
     },
     "execution_count": 58,
     "metadata": {},
     "output_type": "execute_result"
    }
   ],
   "source": [
    "waterStatspH.head()"
   ]
  },
  {
   "cell_type": "markdown",
   "metadata": {},
   "source": [
    "### Introduce new columns in PH data frame (Latitute, Longitude)"
   ]
  },
  {
   "cell_type": "code",
   "execution_count": 64,
   "metadata": {},
   "outputs": [],
   "source": [
    "waterStatspH['LAT']=waterStatspH.stationLocation.str.split(\",\",expand=True)[0]"
   ]
  },
  {
   "cell_type": "code",
   "execution_count": 65,
   "metadata": {},
   "outputs": [],
   "source": [
    "waterStatspH['LONG']=waterStatspH.stationLocation.str.split(\",\",expand=True)[1]"
   ]
  },
  {
   "cell_type": "code",
   "execution_count": 66,
   "metadata": {},
   "outputs": [],
   "source": [
    "waterStatspH.LAT=waterStatspH.LAT.str.replace('(','')"
   ]
  },
  {
   "cell_type": "code",
   "execution_count": 67,
   "metadata": {},
   "outputs": [],
   "source": [
    "waterStatspH.LONG=waterStatspH.LONG.str.replace(')','')"
   ]
  },
  {
   "cell_type": "code",
   "execution_count": 68,
   "metadata": {},
   "outputs": [],
   "source": [
    "waterStatspH.LAT=waterStatspH.LAT.astype(float)"
   ]
  },
  {
   "cell_type": "code",
   "execution_count": 69,
   "metadata": {},
   "outputs": [],
   "source": [
    "waterStatspH.LONG=waterStatspH.LONG.astype(float)"
   ]
  },
  {
   "cell_type": "code",
   "execution_count": 70,
   "metadata": {},
   "outputs": [],
   "source": [
    "waterStatspH.result=pd.to_numeric(waterStatspH.result)"
   ]
  },
  {
   "cell_type": "markdown",
   "metadata": {},
   "source": [
    "### Utility to find zip codes corresponding to Latitude and Longitude "
   ]
  },
  {
   "cell_type": "code",
   "execution_count": null,
   "metadata": {},
   "outputs": [],
   "source": [
    "search = SearchEngine(simple_zipcode=True)\n",
    "result = search.by_coordinates(30.585403, -103.902041, radius=50, returns=1)\n",
    "zipcode = str(result).split(',')[0].split('=')[1][1:6]"
   ]
  },
  {
   "cell_type": "code",
   "execution_count": null,
   "metadata": {},
   "outputs": [],
   "source": [
    "f=open(\"zipCodes.csv\",\"w+\")\n",
    "\n",
    "from uszipcode import SearchEngine\n",
    "from uszipcode import SimpleZipcode\n",
    "def get_zip(lat,long):\n",
    "    result = search.by_coordinates(float(lat), float(long), radius=100, returns=1)\n",
    "    temp=str(result).split(',')[0].split('=')[1][1:6]\n",
    "    #print(temp)\n",
    "    f.write(\"{},{},{}\\n\".format(lat,long,temp))\n",
    "    #return temp\n"
   ]
  },
  {
   "cell_type": "code",
   "execution_count": null,
   "metadata": {},
   "outputs": [],
   "source": [
    "for row in latLongPH:\n",
    "    get_zip(row[0],row[1])\n",
    "f.close()"
   ]
  },
  {
   "cell_type": "markdown",
   "metadata": {},
   "source": [
    "### Apply join to merge Zip Codes and Water PH data, to get Zip Codes"
   ]
  },
  {
   "cell_type": "code",
   "execution_count": 71,
   "metadata": {},
   "outputs": [],
   "source": [
    "zipsCodes = pd.read_csv('zipCodes.csv')"
   ]
  },
  {
   "cell_type": "code",
   "execution_count": 72,
   "metadata": {},
   "outputs": [
    {
     "data": {
      "text/html": [
       "<div>\n",
       "<style scoped>\n",
       "    .dataframe tbody tr th:only-of-type {\n",
       "        vertical-align: middle;\n",
       "    }\n",
       "\n",
       "    .dataframe tbody tr th {\n",
       "        vertical-align: top;\n",
       "    }\n",
       "\n",
       "    .dataframe thead th {\n",
       "        text-align: right;\n",
       "    }\n",
       "</style>\n",
       "<table border=\"1\" class=\"dataframe\">\n",
       "  <thead>\n",
       "    <tr style=\"text-align: right;\">\n",
       "      <th></th>\n",
       "      <th>date</th>\n",
       "      <th>time</th>\n",
       "      <th>station</th>\n",
       "      <th>parameter</th>\n",
       "      <th>result</th>\n",
       "      <th>unit</th>\n",
       "      <th>stationLocation</th>\n",
       "      <th>LAT</th>\n",
       "      <th>LONG</th>\n",
       "    </tr>\n",
       "  </thead>\n",
       "  <tbody>\n",
       "    <tr>\n",
       "      <th>297</th>\n",
       "      <td>1995-07-24</td>\n",
       "      <td>12:15</td>\n",
       "      <td>RADECKE AVE.</td>\n",
       "      <td>pH</td>\n",
       "      <td>7.3</td>\n",
       "      <td>pH units</td>\n",
       "      <td>(39.33036, -76.53478)</td>\n",
       "      <td>39.330360</td>\n",
       "      <td>-76.534780</td>\n",
       "    </tr>\n",
       "    <tr>\n",
       "      <th>311</th>\n",
       "      <td>1995-07-24</td>\n",
       "      <td>12:45</td>\n",
       "      <td>HAMILTON AVE.</td>\n",
       "      <td>pH</td>\n",
       "      <td>7.3</td>\n",
       "      <td>pH units</td>\n",
       "      <td>(39.33673, -76.53967)</td>\n",
       "      <td>39.336730</td>\n",
       "      <td>-76.539670</td>\n",
       "    </tr>\n",
       "    <tr>\n",
       "      <th>325</th>\n",
       "      <td>1995-07-24</td>\n",
       "      <td>14:15</td>\n",
       "      <td>BRANCH AVE.</td>\n",
       "      <td>pH</td>\n",
       "      <td>7.5</td>\n",
       "      <td>pH units</td>\n",
       "      <td>(39.340575, -76.542373)</td>\n",
       "      <td>39.340575</td>\n",
       "      <td>-76.542373</td>\n",
       "    </tr>\n",
       "    <tr>\n",
       "      <th>339</th>\n",
       "      <td>1995-07-24</td>\n",
       "      <td>14:45</td>\n",
       "      <td>MARY AVE.</td>\n",
       "      <td>pH</td>\n",
       "      <td>7.0</td>\n",
       "      <td>pH units</td>\n",
       "      <td>(39.343655, -76.541122)</td>\n",
       "      <td>39.343655</td>\n",
       "      <td>-76.541122</td>\n",
       "    </tr>\n",
       "    <tr>\n",
       "      <th>353</th>\n",
       "      <td>1995-08-08</td>\n",
       "      <td>10:15</td>\n",
       "      <td>MARY AVE.</td>\n",
       "      <td>pH</td>\n",
       "      <td>7.5</td>\n",
       "      <td>pH units</td>\n",
       "      <td>(39.343655, -76.541122)</td>\n",
       "      <td>39.343655</td>\n",
       "      <td>-76.541122</td>\n",
       "    </tr>\n",
       "  </tbody>\n",
       "</table>\n",
       "</div>"
      ],
      "text/plain": [
       "          date   time        station parameter  result      unit  \\\n",
       "297 1995-07-24  12:15   RADECKE AVE.        pH     7.3  pH units   \n",
       "311 1995-07-24  12:45  HAMILTON AVE.        pH     7.3  pH units   \n",
       "325 1995-07-24  14:15    BRANCH AVE.        pH     7.5  pH units   \n",
       "339 1995-07-24  14:45      MARY AVE.        pH     7.0  pH units   \n",
       "353 1995-08-08  10:15      MARY AVE.        pH     7.5  pH units   \n",
       "\n",
       "             stationLocation        LAT       LONG  \n",
       "297    (39.33036, -76.53478)  39.330360 -76.534780  \n",
       "311    (39.33673, -76.53967)  39.336730 -76.539670  \n",
       "325  (39.340575, -76.542373)  39.340575 -76.542373  \n",
       "339  (39.343655, -76.541122)  39.343655 -76.541122  \n",
       "353  (39.343655, -76.541122)  39.343655 -76.541122  "
      ]
     },
     "execution_count": 72,
     "metadata": {},
     "output_type": "execute_result"
    }
   ],
   "source": [
    "waterStatspH.head()"
   ]
  },
  {
   "cell_type": "code",
   "execution_count": 73,
   "metadata": {},
   "outputs": [],
   "source": [
    "waterStatspH=pd.merge(waterStatspH,zipsCodes,left_on=['LAT','LONG'],right_on=['LAT','LONG'])"
   ]
  },
  {
   "cell_type": "markdown",
   "metadata": {},
   "source": [
    "### Building PH Score - 10 being best at 0 being worse "
   ]
  },
  {
   "cell_type": "code",
   "execution_count": 74,
   "metadata": {},
   "outputs": [],
   "source": [
    "waterStatspH['score']=1"
   ]
  },
  {
   "cell_type": "markdown",
   "metadata": {},
   "source": [
    "## Building formula for PH\n",
    "\n",
    "### Building pH Score.\n",
    "\n",
    "The most commonly measured chemical attribute of water is its acidity or pH. The pH scale ranges from 1 to 14, with 1 being the most acidic and 14 being the most basic. Most streams have a neutral to slightly basic pH of 6.5 to 8.5. If streamwater has a pH less than 5.5, it may be too acidic for fish to survive in, while streamwater with a pH greater than 8.6 may be too basic.\n",
    "\n",
    "http://www.cotf.edu/ete/modules/waterq3/WQassess3a.html http://fosc.org/WQData/WQParameters.htm"
   ]
  },
  {
   "cell_type": "code",
   "execution_count": 75,
   "metadata": {},
   "outputs": [],
   "source": [
    "waterStatspH.loc[(waterStatspH.result<=7.5),['score']]=(10/7.5)*waterStatspH.result"
   ]
  },
  {
   "cell_type": "code",
   "execution_count": 76,
   "metadata": {},
   "outputs": [],
   "source": [
    "waterStatspH= waterStatspH[waterStatspH.result<15]"
   ]
  },
  {
   "cell_type": "code",
   "execution_count": 77,
   "metadata": {},
   "outputs": [],
   "source": [
    "waterStatspH.loc[(waterStatspH.result>7.5),['score']]=20-((10/7.5)*waterStatspH.result)"
   ]
  },
  {
   "cell_type": "code",
   "execution_count": 78,
   "metadata": {},
   "outputs": [
    {
     "data": {
      "text/html": [
       "<div>\n",
       "<style scoped>\n",
       "    .dataframe tbody tr th:only-of-type {\n",
       "        vertical-align: middle;\n",
       "    }\n",
       "\n",
       "    .dataframe tbody tr th {\n",
       "        vertical-align: top;\n",
       "    }\n",
       "\n",
       "    .dataframe thead th {\n",
       "        text-align: right;\n",
       "    }\n",
       "</style>\n",
       "<table border=\"1\" class=\"dataframe\">\n",
       "  <thead>\n",
       "    <tr style=\"text-align: right;\">\n",
       "      <th></th>\n",
       "      <th>date</th>\n",
       "      <th>time</th>\n",
       "      <th>station</th>\n",
       "      <th>parameter</th>\n",
       "      <th>result</th>\n",
       "      <th>unit</th>\n",
       "      <th>stationLocation</th>\n",
       "      <th>LAT</th>\n",
       "      <th>LONG</th>\n",
       "      <th>ZIP</th>\n",
       "      <th>score</th>\n",
       "    </tr>\n",
       "  </thead>\n",
       "  <tbody>\n",
       "    <tr>\n",
       "      <th>0</th>\n",
       "      <td>1995-07-24</td>\n",
       "      <td>12:15</td>\n",
       "      <td>RADECKE AVE.</td>\n",
       "      <td>pH</td>\n",
       "      <td>7.3</td>\n",
       "      <td>pH units</td>\n",
       "      <td>(39.33036, -76.53478)</td>\n",
       "      <td>39.33036</td>\n",
       "      <td>-76.53478</td>\n",
       "      <td>21206</td>\n",
       "      <td>9.733333</td>\n",
       "    </tr>\n",
       "    <tr>\n",
       "      <th>1</th>\n",
       "      <td>1995-07-24</td>\n",
       "      <td>12:15</td>\n",
       "      <td>RADECKE AVE.</td>\n",
       "      <td>pH</td>\n",
       "      <td>7.3</td>\n",
       "      <td>pH units</td>\n",
       "      <td>(39.33036, -76.53478)</td>\n",
       "      <td>39.33036</td>\n",
       "      <td>-76.53478</td>\n",
       "      <td>21206</td>\n",
       "      <td>9.733333</td>\n",
       "    </tr>\n",
       "    <tr>\n",
       "      <th>2</th>\n",
       "      <td>1995-08-08</td>\n",
       "      <td>11:50</td>\n",
       "      <td>RADECKE AVE.</td>\n",
       "      <td>pH</td>\n",
       "      <td>7.3</td>\n",
       "      <td>pH units</td>\n",
       "      <td>(39.33036, -76.53478)</td>\n",
       "      <td>39.33036</td>\n",
       "      <td>-76.53478</td>\n",
       "      <td>21206</td>\n",
       "      <td>9.733333</td>\n",
       "    </tr>\n",
       "    <tr>\n",
       "      <th>3</th>\n",
       "      <td>1995-08-08</td>\n",
       "      <td>11:50</td>\n",
       "      <td>RADECKE AVE.</td>\n",
       "      <td>pH</td>\n",
       "      <td>7.3</td>\n",
       "      <td>pH units</td>\n",
       "      <td>(39.33036, -76.53478)</td>\n",
       "      <td>39.33036</td>\n",
       "      <td>-76.53478</td>\n",
       "      <td>21206</td>\n",
       "      <td>9.733333</td>\n",
       "    </tr>\n",
       "    <tr>\n",
       "      <th>4</th>\n",
       "      <td>1995-08-21</td>\n",
       "      <td>11:15</td>\n",
       "      <td>RADECKE AVE.</td>\n",
       "      <td>pH</td>\n",
       "      <td>7.7</td>\n",
       "      <td>pH units</td>\n",
       "      <td>(39.33036, -76.53478)</td>\n",
       "      <td>39.33036</td>\n",
       "      <td>-76.53478</td>\n",
       "      <td>21206</td>\n",
       "      <td>9.733333</td>\n",
       "    </tr>\n",
       "  </tbody>\n",
       "</table>\n",
       "</div>"
      ],
      "text/plain": [
       "        date   time       station parameter  result      unit  \\\n",
       "0 1995-07-24  12:15  RADECKE AVE.        pH     7.3  pH units   \n",
       "1 1995-07-24  12:15  RADECKE AVE.        pH     7.3  pH units   \n",
       "2 1995-08-08  11:50  RADECKE AVE.        pH     7.3  pH units   \n",
       "3 1995-08-08  11:50  RADECKE AVE.        pH     7.3  pH units   \n",
       "4 1995-08-21  11:15  RADECKE AVE.        pH     7.7  pH units   \n",
       "\n",
       "         stationLocation       LAT      LONG    ZIP     score  \n",
       "0  (39.33036, -76.53478)  39.33036 -76.53478  21206  9.733333  \n",
       "1  (39.33036, -76.53478)  39.33036 -76.53478  21206  9.733333  \n",
       "2  (39.33036, -76.53478)  39.33036 -76.53478  21206  9.733333  \n",
       "3  (39.33036, -76.53478)  39.33036 -76.53478  21206  9.733333  \n",
       "4  (39.33036, -76.53478)  39.33036 -76.53478  21206  9.733333  "
      ]
     },
     "execution_count": 78,
     "metadata": {},
     "output_type": "execute_result"
    }
   ],
   "source": [
    "waterStatspH.head()"
   ]
  },
  {
   "cell_type": "code",
   "execution_count": 79,
   "metadata": {},
   "outputs": [
    {
     "data": {
      "text/plain": [
       "count    23734.000000\n",
       "mean         7.730577\n",
       "std          0.439878\n",
       "min          2.830000\n",
       "25%          7.470000\n",
       "50%          7.760000\n",
       "75%          8.000000\n",
       "max         11.910000\n",
       "Name: result, dtype: float64"
      ]
     },
     "execution_count": 79,
     "metadata": {},
     "output_type": "execute_result"
    }
   ],
   "source": [
    "waterStatspH.result.describe()"
   ]
  },
  {
   "cell_type": "code",
   "execution_count": 87,
   "metadata": {},
   "outputs": [
    {
     "data": {
      "text/plain": [
       "date               datetime64[ns]\n",
       "time                       object\n",
       "station                    object\n",
       "parameter                  object\n",
       "result                    float64\n",
       "unit                       object\n",
       "stationLocation            object\n",
       "LAT                       float64\n",
       "LONG                      float64\n",
       "ZIP                         int64\n",
       "score                     float64\n",
       "year                        int64\n",
       "dtype: object"
      ]
     },
     "execution_count": 87,
     "metadata": {},
     "output_type": "execute_result"
    }
   ],
   "source": [
    "waterStatspH.dtypes"
   ]
  },
  {
   "cell_type": "code",
   "execution_count": 88,
   "metadata": {},
   "outputs": [],
   "source": [
    "waterStatspH.date=pd.to_datetime(waterStatspH.date)"
   ]
  },
  {
   "cell_type": "code",
   "execution_count": 89,
   "metadata": {},
   "outputs": [
    {
     "data": {
      "text/html": [
       "<div>\n",
       "<style scoped>\n",
       "    .dataframe tbody tr th:only-of-type {\n",
       "        vertical-align: middle;\n",
       "    }\n",
       "\n",
       "    .dataframe tbody tr th {\n",
       "        vertical-align: top;\n",
       "    }\n",
       "\n",
       "    .dataframe thead th {\n",
       "        text-align: right;\n",
       "    }\n",
       "</style>\n",
       "<table border=\"1\" class=\"dataframe\">\n",
       "  <thead>\n",
       "    <tr style=\"text-align: right;\">\n",
       "      <th></th>\n",
       "      <th>date</th>\n",
       "      <th>time</th>\n",
       "      <th>station</th>\n",
       "      <th>parameter</th>\n",
       "      <th>result</th>\n",
       "      <th>unit</th>\n",
       "      <th>stationLocation</th>\n",
       "      <th>LAT</th>\n",
       "      <th>LONG</th>\n",
       "      <th>ZIP</th>\n",
       "      <th>score</th>\n",
       "      <th>year</th>\n",
       "    </tr>\n",
       "  </thead>\n",
       "  <tbody>\n",
       "    <tr>\n",
       "      <th>0</th>\n",
       "      <td>1995-07-24</td>\n",
       "      <td>12:15</td>\n",
       "      <td>RADECKE AVE.</td>\n",
       "      <td>pH</td>\n",
       "      <td>7.3</td>\n",
       "      <td>pH units</td>\n",
       "      <td>(39.33036, -76.53478)</td>\n",
       "      <td>39.33036</td>\n",
       "      <td>-76.53478</td>\n",
       "      <td>21206</td>\n",
       "      <td>9.733333</td>\n",
       "      <td>1995</td>\n",
       "    </tr>\n",
       "    <tr>\n",
       "      <th>1</th>\n",
       "      <td>1995-07-24</td>\n",
       "      <td>12:15</td>\n",
       "      <td>RADECKE AVE.</td>\n",
       "      <td>pH</td>\n",
       "      <td>7.3</td>\n",
       "      <td>pH units</td>\n",
       "      <td>(39.33036, -76.53478)</td>\n",
       "      <td>39.33036</td>\n",
       "      <td>-76.53478</td>\n",
       "      <td>21206</td>\n",
       "      <td>9.733333</td>\n",
       "      <td>1995</td>\n",
       "    </tr>\n",
       "    <tr>\n",
       "      <th>2</th>\n",
       "      <td>1995-08-08</td>\n",
       "      <td>11:50</td>\n",
       "      <td>RADECKE AVE.</td>\n",
       "      <td>pH</td>\n",
       "      <td>7.3</td>\n",
       "      <td>pH units</td>\n",
       "      <td>(39.33036, -76.53478)</td>\n",
       "      <td>39.33036</td>\n",
       "      <td>-76.53478</td>\n",
       "      <td>21206</td>\n",
       "      <td>9.733333</td>\n",
       "      <td>1995</td>\n",
       "    </tr>\n",
       "    <tr>\n",
       "      <th>3</th>\n",
       "      <td>1995-08-08</td>\n",
       "      <td>11:50</td>\n",
       "      <td>RADECKE AVE.</td>\n",
       "      <td>pH</td>\n",
       "      <td>7.3</td>\n",
       "      <td>pH units</td>\n",
       "      <td>(39.33036, -76.53478)</td>\n",
       "      <td>39.33036</td>\n",
       "      <td>-76.53478</td>\n",
       "      <td>21206</td>\n",
       "      <td>9.733333</td>\n",
       "      <td>1995</td>\n",
       "    </tr>\n",
       "    <tr>\n",
       "      <th>4</th>\n",
       "      <td>1995-08-21</td>\n",
       "      <td>11:15</td>\n",
       "      <td>RADECKE AVE.</td>\n",
       "      <td>pH</td>\n",
       "      <td>7.7</td>\n",
       "      <td>pH units</td>\n",
       "      <td>(39.33036, -76.53478)</td>\n",
       "      <td>39.33036</td>\n",
       "      <td>-76.53478</td>\n",
       "      <td>21206</td>\n",
       "      <td>9.733333</td>\n",
       "      <td>1995</td>\n",
       "    </tr>\n",
       "  </tbody>\n",
       "</table>\n",
       "</div>"
      ],
      "text/plain": [
       "        date   time       station parameter  result      unit  \\\n",
       "0 1995-07-24  12:15  RADECKE AVE.        pH     7.3  pH units   \n",
       "1 1995-07-24  12:15  RADECKE AVE.        pH     7.3  pH units   \n",
       "2 1995-08-08  11:50  RADECKE AVE.        pH     7.3  pH units   \n",
       "3 1995-08-08  11:50  RADECKE AVE.        pH     7.3  pH units   \n",
       "4 1995-08-21  11:15  RADECKE AVE.        pH     7.7  pH units   \n",
       "\n",
       "         stationLocation       LAT      LONG    ZIP     score  year  \n",
       "0  (39.33036, -76.53478)  39.33036 -76.53478  21206  9.733333  1995  \n",
       "1  (39.33036, -76.53478)  39.33036 -76.53478  21206  9.733333  1995  \n",
       "2  (39.33036, -76.53478)  39.33036 -76.53478  21206  9.733333  1995  \n",
       "3  (39.33036, -76.53478)  39.33036 -76.53478  21206  9.733333  1995  \n",
       "4  (39.33036, -76.53478)  39.33036 -76.53478  21206  9.733333  1995  "
      ]
     },
     "execution_count": 89,
     "metadata": {},
     "output_type": "execute_result"
    }
   ],
   "source": [
    "waterStatspH.head()"
   ]
  },
  {
   "cell_type": "code",
   "execution_count": 90,
   "metadata": {},
   "outputs": [],
   "source": [
    "## Cleaning\n",
    "waterStatspH=waterStatspH.dropna()"
   ]
  },
  {
   "cell_type": "code",
   "execution_count": 91,
   "metadata": {},
   "outputs": [],
   "source": [
    "# Introduce new column for visualization purpse\n",
    "waterStatspH['year']=waterStatspH.date.dt.year"
   ]
  },
  {
   "cell_type": "code",
   "execution_count": 92,
   "metadata": {},
   "outputs": [],
   "source": [
    "waterStatspH.LONG=pd.to_numeric(waterStatspH.LONG)"
   ]
  },
  {
   "cell_type": "code",
   "execution_count": 93,
   "metadata": {},
   "outputs": [],
   "source": [
    "waterStatspH.LAT=pd.to_numeric(waterStatspH.LAT)"
   ]
  },
  {
   "cell_type": "code",
   "execution_count": 94,
   "metadata": {},
   "outputs": [
    {
     "data": {
      "text/plain": [
       "date               datetime64[ns]\n",
       "time                       object\n",
       "station                    object\n",
       "parameter                  object\n",
       "result                    float64\n",
       "unit                       object\n",
       "stationLocation            object\n",
       "LAT                       float64\n",
       "LONG                      float64\n",
       "ZIP                         int64\n",
       "score                     float64\n",
       "year                        int64\n",
       "dtype: object"
      ]
     },
     "execution_count": 94,
     "metadata": {},
     "output_type": "execute_result"
    }
   ],
   "source": [
    "waterStatspH.dtypes"
   ]
  },
  {
   "cell_type": "code",
   "execution_count": 95,
   "metadata": {},
   "outputs": [
    {
     "data": {
      "text/html": [
       "<div>\n",
       "<style scoped>\n",
       "    .dataframe tbody tr th:only-of-type {\n",
       "        vertical-align: middle;\n",
       "    }\n",
       "\n",
       "    .dataframe tbody tr th {\n",
       "        vertical-align: top;\n",
       "    }\n",
       "\n",
       "    .dataframe thead th {\n",
       "        text-align: right;\n",
       "    }\n",
       "</style>\n",
       "<table border=\"1\" class=\"dataframe\">\n",
       "  <thead>\n",
       "    <tr style=\"text-align: right;\">\n",
       "      <th></th>\n",
       "      <th>date</th>\n",
       "      <th>time</th>\n",
       "      <th>station</th>\n",
       "      <th>parameter</th>\n",
       "      <th>result</th>\n",
       "      <th>unit</th>\n",
       "      <th>stationLocation</th>\n",
       "      <th>LAT</th>\n",
       "      <th>LONG</th>\n",
       "      <th>ZIP</th>\n",
       "      <th>score</th>\n",
       "      <th>year</th>\n",
       "    </tr>\n",
       "  </thead>\n",
       "  <tbody>\n",
       "    <tr>\n",
       "      <th>0</th>\n",
       "      <td>1995-07-24</td>\n",
       "      <td>12:15</td>\n",
       "      <td>RADECKE AVE.</td>\n",
       "      <td>pH</td>\n",
       "      <td>7.3</td>\n",
       "      <td>pH units</td>\n",
       "      <td>(39.33036, -76.53478)</td>\n",
       "      <td>39.33036</td>\n",
       "      <td>-76.53478</td>\n",
       "      <td>21206</td>\n",
       "      <td>9.733333</td>\n",
       "      <td>1995</td>\n",
       "    </tr>\n",
       "    <tr>\n",
       "      <th>1</th>\n",
       "      <td>1995-07-24</td>\n",
       "      <td>12:15</td>\n",
       "      <td>RADECKE AVE.</td>\n",
       "      <td>pH</td>\n",
       "      <td>7.3</td>\n",
       "      <td>pH units</td>\n",
       "      <td>(39.33036, -76.53478)</td>\n",
       "      <td>39.33036</td>\n",
       "      <td>-76.53478</td>\n",
       "      <td>21206</td>\n",
       "      <td>9.733333</td>\n",
       "      <td>1995</td>\n",
       "    </tr>\n",
       "    <tr>\n",
       "      <th>2</th>\n",
       "      <td>1995-08-08</td>\n",
       "      <td>11:50</td>\n",
       "      <td>RADECKE AVE.</td>\n",
       "      <td>pH</td>\n",
       "      <td>7.3</td>\n",
       "      <td>pH units</td>\n",
       "      <td>(39.33036, -76.53478)</td>\n",
       "      <td>39.33036</td>\n",
       "      <td>-76.53478</td>\n",
       "      <td>21206</td>\n",
       "      <td>9.733333</td>\n",
       "      <td>1995</td>\n",
       "    </tr>\n",
       "    <tr>\n",
       "      <th>3</th>\n",
       "      <td>1995-08-08</td>\n",
       "      <td>11:50</td>\n",
       "      <td>RADECKE AVE.</td>\n",
       "      <td>pH</td>\n",
       "      <td>7.3</td>\n",
       "      <td>pH units</td>\n",
       "      <td>(39.33036, -76.53478)</td>\n",
       "      <td>39.33036</td>\n",
       "      <td>-76.53478</td>\n",
       "      <td>21206</td>\n",
       "      <td>9.733333</td>\n",
       "      <td>1995</td>\n",
       "    </tr>\n",
       "    <tr>\n",
       "      <th>4</th>\n",
       "      <td>1995-08-21</td>\n",
       "      <td>11:15</td>\n",
       "      <td>RADECKE AVE.</td>\n",
       "      <td>pH</td>\n",
       "      <td>7.7</td>\n",
       "      <td>pH units</td>\n",
       "      <td>(39.33036, -76.53478)</td>\n",
       "      <td>39.33036</td>\n",
       "      <td>-76.53478</td>\n",
       "      <td>21206</td>\n",
       "      <td>9.733333</td>\n",
       "      <td>1995</td>\n",
       "    </tr>\n",
       "  </tbody>\n",
       "</table>\n",
       "</div>"
      ],
      "text/plain": [
       "        date   time       station parameter  result      unit  \\\n",
       "0 1995-07-24  12:15  RADECKE AVE.        pH     7.3  pH units   \n",
       "1 1995-07-24  12:15  RADECKE AVE.        pH     7.3  pH units   \n",
       "2 1995-08-08  11:50  RADECKE AVE.        pH     7.3  pH units   \n",
       "3 1995-08-08  11:50  RADECKE AVE.        pH     7.3  pH units   \n",
       "4 1995-08-21  11:15  RADECKE AVE.        pH     7.7  pH units   \n",
       "\n",
       "         stationLocation       LAT      LONG    ZIP     score  year  \n",
       "0  (39.33036, -76.53478)  39.33036 -76.53478  21206  9.733333  1995  \n",
       "1  (39.33036, -76.53478)  39.33036 -76.53478  21206  9.733333  1995  \n",
       "2  (39.33036, -76.53478)  39.33036 -76.53478  21206  9.733333  1995  \n",
       "3  (39.33036, -76.53478)  39.33036 -76.53478  21206  9.733333  1995  \n",
       "4  (39.33036, -76.53478)  39.33036 -76.53478  21206  9.733333  1995  "
      ]
     },
     "execution_count": 95,
     "metadata": {},
     "output_type": "execute_result"
    }
   ],
   "source": [
    "waterStatspH.head()"
   ]
  },
  {
   "cell_type": "code",
   "execution_count": 99,
   "metadata": {},
   "outputs": [],
   "source": [
    "ph_21213 = waterStatspH[waterStatspH.ZIP==21213]"
   ]
  },
  {
   "cell_type": "markdown",
   "metadata": {},
   "source": [
    "### Basic scatter plots for 21213 Zip code"
   ]
  },
  {
   "cell_type": "code",
   "execution_count": 103,
   "metadata": {},
   "outputs": [
    {
     "data": {
      "text/plain": [
       "[<matplotlib.lines.Line2D at 0x23e837329b0>]"
      ]
     },
     "execution_count": 103,
     "metadata": {},
     "output_type": "execute_result"
    },
    {
     "data": {
      "image/png": "[encoded data removed]",
      "text/plain": [
       "<Figure size 1080x576 with 1 Axes>"
      ]
     },
     "metadata": {
      "needs_background": "light"
     },
     "output_type": "display_data"
    }
   ],
   "source": [
    "plt.plot_date(ph_21213.date, ph_21213.result)"
   ]
  },
  {
   "cell_type": "code",
   "execution_count": 101,
   "metadata": {},
   "outputs": [],
   "source": [
    "%matplotlib inline\n",
    "plt.rcParams['figure.figsize']=(15,8)"
   ]
  },
  {
   "cell_type": "code",
   "execution_count": 102,
   "metadata": {},
   "outputs": [
    {
     "data": {
      "text/plain": [
       "[<matplotlib.lines.Line2D at 0x23e836ecc50>]"
      ]
     },
     "execution_count": 102,
     "metadata": {},
     "output_type": "execute_result"
    },
    {
     "data": {
      "image/png": "[encoded data removed]",
      "text/plain": [
       "<Figure size 1080x576 with 1 Axes>"
      ]
     },
     "metadata": {
      "needs_background": "light"
     },
     "output_type": "display_data"
    }
   ],
   "source": [
    "plt.plot(ph_21213.date,ph_21213.result)"
   ]
  },
  {
   "cell_type": "code",
   "execution_count": 99,
   "metadata": {},
   "outputs": [],
   "source": [
    "waterStatspH.date=pd.to_datetime(waterStatspH.date)"
   ]
  },
  {
   "cell_type": "code",
   "execution_count": 105,
   "metadata": {},
   "outputs": [],
   "source": [
    "ph_21213['year']=ph_21213.date.dt.year"
   ]
  },
  {
   "cell_type": "code",
   "execution_count": 108,
   "metadata": {},
   "outputs": [
    {
     "data": {
      "text/plain": [
       "count    1948.000000\n",
       "mean        9.412005\n",
       "std         0.415108\n",
       "min         7.173333\n",
       "25%         9.200000\n",
       "50%         9.480000\n",
       "75%         9.720000\n",
       "max        10.000000\n",
       "Name: score, dtype: float64"
      ]
     },
     "execution_count": 108,
     "metadata": {},
     "output_type": "execute_result"
    }
   ],
   "source": [
    "ph_21213.score.describe()"
   ]
  },
  {
   "cell_type": "code",
   "execution_count": 109,
   "metadata": {},
   "outputs": [],
   "source": [
    "sns.set_style(\"darkgrid\")"
   ]
  },
  {
   "cell_type": "code",
   "execution_count": 110,
   "metadata": {},
   "outputs": [
    {
     "data": {
      "text/plain": [
       "<matplotlib.axes._subplots.AxesSubplot at 0x23e85cc2cf8>"
      ]
     },
     "execution_count": 110,
     "metadata": {},
     "output_type": "execute_result"
    },
    {
     "data": {
      "image/png": "[encoded data removed]",
      "text/plain": [
       "<Figure size 1080x576 with 1 Axes>"
      ]
     },
     "metadata": {},
     "output_type": "display_data"
    }
   ],
   "source": [
    "sns.violinplot(data=waterStatspH,x='year',y='score')"
   ]
  },
  {
   "cell_type": "code",
   "execution_count": 141,
   "metadata": {},
   "outputs": [],
   "source": [
    "ph_21213.pHScore=ph_21213.pHScore.astype(float)"
   ]
  },
  {
   "cell_type": "code",
   "execution_count": 144,
   "metadata": {},
   "outputs": [
    {
     "data": {
      "text/plain": [
       "0.0"
      ]
     },
     "execution_count": 144,
     "metadata": {},
     "output_type": "execute_result"
    }
   ],
   "source": [
    "min(ph_21213.pHScore)"
   ]
  },
  {
   "cell_type": "code",
   "execution_count": 162,
   "metadata": {},
   "outputs": [
    {
     "data": {
      "text/plain": [
       "count    2608.000000\n",
       "mean        7.795038\n",
       "std         0.432512\n",
       "min         5.470000\n",
       "25%         7.560000\n",
       "50%         7.810000\n",
       "75%         8.040000\n",
       "max         9.620000\n",
       "Name: result, dtype: float64"
      ]
     },
     "execution_count": 162,
     "metadata": {},
     "output_type": "execute_result"
    }
   ],
   "source": [
    "ph_21213.result.describe()"
   ]
  },
  {
   "cell_type": "code",
   "execution_count": 165,
   "metadata": {},
   "outputs": [
    {
     "data": {
      "text/plain": [
       "count    32797.000000\n",
       "mean         9.476455\n",
       "std          0.403634\n",
       "min          3.560000\n",
       "25%          9.293333\n",
       "50%          9.546667\n",
       "75%          9.773333\n",
       "max         10.000000\n",
       "Name: pHScore, dtype: float64"
      ]
     },
     "execution_count": 165,
     "metadata": {},
     "output_type": "execute_result"
    }
   ],
   "source": [
    "waterStatspH.pHScore.describe()"
   ]
  },
  {
   "cell_type": "code",
   "execution_count": 111,
   "metadata": {},
   "outputs": [
    {
     "data": {
      "text/plain": [
       "<matplotlib.axes._subplots.AxesSubplot at 0x23e860a8160>"
      ]
     },
     "execution_count": 111,
     "metadata": {},
     "output_type": "execute_result"
    },
    {
     "data": {
      "image/png": "[encoded data removed]",
      "text/plain": [
       "<Figure size 1080x576 with 1 Axes>"
      ]
     },
     "metadata": {},
     "output_type": "display_data"
    }
   ],
   "source": [
    "sns.violinplot(data=waterStatspH,x='year',y='score')"
   ]
  },
  {
   "cell_type": "markdown",
   "metadata": {},
   "source": [
    "### Cleaning data for Suspendes solids"
   ]
  },
  {
   "cell_type": "code",
   "execution_count": 112,
   "metadata": {},
   "outputs": [],
   "source": [
    "waterStatsSuspendedSolids.result=waterStatsSuspendedSolids.result.str.replace(\"[^0-9]\",'')#cleaning"
   ]
  },
  {
   "cell_type": "code",
   "execution_count": 113,
   "metadata": {},
   "outputs": [
    {
     "data": {
      "text/html": [
       "<div>\n",
       "<style scoped>\n",
       "    .dataframe tbody tr th:only-of-type {\n",
       "        vertical-align: middle;\n",
       "    }\n",
       "\n",
       "    .dataframe tbody tr th {\n",
       "        vertical-align: top;\n",
       "    }\n",
       "\n",
       "    .dataframe thead th {\n",
       "        text-align: right;\n",
       "    }\n",
       "</style>\n",
       "<table border=\"1\" class=\"dataframe\">\n",
       "  <thead>\n",
       "    <tr style=\"text-align: right;\">\n",
       "      <th></th>\n",
       "      <th>date</th>\n",
       "      <th>time</th>\n",
       "      <th>station</th>\n",
       "      <th>parameter</th>\n",
       "      <th>result</th>\n",
       "      <th>unit</th>\n",
       "      <th>stationLocation</th>\n",
       "    </tr>\n",
       "  </thead>\n",
       "  <tbody>\n",
       "    <tr>\n",
       "      <th>17</th>\n",
       "      <td>04/05/1995</td>\n",
       "      <td>11:30</td>\n",
       "      <td>HAMILTON AVE.</td>\n",
       "      <td>Suspended Solids</td>\n",
       "      <td>1</td>\n",
       "      <td>mg/L</td>\n",
       "      <td>(39.33673, -76.53967)</td>\n",
       "    </tr>\n",
       "    <tr>\n",
       "      <th>28</th>\n",
       "      <td>04/05/1995</td>\n",
       "      <td>13:30</td>\n",
       "      <td>RADECKE AVE.</td>\n",
       "      <td>Suspended Solids</td>\n",
       "      <td>1</td>\n",
       "      <td>mg/L</td>\n",
       "      <td>(39.33036, -76.53478)</td>\n",
       "    </tr>\n",
       "    <tr>\n",
       "      <th>39</th>\n",
       "      <td>05/04/1995</td>\n",
       "      <td>11:30</td>\n",
       "      <td>BRANCH AVE.</td>\n",
       "      <td>Suspended Solids</td>\n",
       "      <td>10</td>\n",
       "      <td>mg/L</td>\n",
       "      <td>(39.340575, -76.542373)</td>\n",
       "    </tr>\n",
       "    <tr>\n",
       "      <th>50</th>\n",
       "      <td>05/04/1995</td>\n",
       "      <td>14:00</td>\n",
       "      <td>MARY AVE.</td>\n",
       "      <td>Suspended Solids</td>\n",
       "      <td>9</td>\n",
       "      <td>mg/L</td>\n",
       "      <td>(39.343655, -76.541122)</td>\n",
       "    </tr>\n",
       "    <tr>\n",
       "      <th>61</th>\n",
       "      <td>05/15/1995</td>\n",
       "      <td>11:00</td>\n",
       "      <td>MARY AVE.</td>\n",
       "      <td>Suspended Solids</td>\n",
       "      <td>1</td>\n",
       "      <td>mg/L</td>\n",
       "      <td>(39.343655, -76.541122)</td>\n",
       "    </tr>\n",
       "  </tbody>\n",
       "</table>\n",
       "</div>"
      ],
      "text/plain": [
       "          date   time        station         parameter result  unit  \\\n",
       "17  04/05/1995  11:30  HAMILTON AVE.  Suspended Solids      1  mg/L   \n",
       "28  04/05/1995  13:30   RADECKE AVE.  Suspended Solids      1  mg/L   \n",
       "39  05/04/1995  11:30    BRANCH AVE.  Suspended Solids     10  mg/L   \n",
       "50  05/04/1995  14:00      MARY AVE.  Suspended Solids      9  mg/L   \n",
       "61  05/15/1995  11:00      MARY AVE.  Suspended Solids      1  mg/L   \n",
       "\n",
       "            stationLocation  \n",
       "17    (39.33673, -76.53967)  \n",
       "28    (39.33036, -76.53478)  \n",
       "39  (39.340575, -76.542373)  \n",
       "50  (39.343655, -76.541122)  \n",
       "61  (39.343655, -76.541122)  "
      ]
     },
     "execution_count": 113,
     "metadata": {},
     "output_type": "execute_result"
    }
   ],
   "source": [
    "waterStatsSuspendedSolids.head()"
   ]
  },
  {
   "cell_type": "code",
   "execution_count": 115,
   "metadata": {},
   "outputs": [],
   "source": [
    "waterStatsSuspendedSolids.result= waterStatsSuspendedSolids.result.astype(float)"
   ]
  },
  {
   "cell_type": "code",
   "execution_count": 116,
   "metadata": {},
   "outputs": [
    {
     "data": {
      "text/plain": [
       "count    9355.000000\n",
       "mean       23.888081\n",
       "std        67.988533\n",
       "min         0.000000\n",
       "25%         3.000000\n",
       "50%        12.000000\n",
       "75%        28.000000\n",
       "max      4020.000000\n",
       "Name: result, dtype: float64"
      ]
     },
     "execution_count": 116,
     "metadata": {},
     "output_type": "execute_result"
    }
   ],
   "source": [
    "waterStatsSuspendedSolids.result.describe()"
   ]
  },
  {
   "cell_type": "code",
   "execution_count": 117,
   "metadata": {},
   "outputs": [
    {
     "data": {
      "text/plain": [
       "array(['mg/L'], dtype=object)"
      ]
     },
     "execution_count": 117,
     "metadata": {},
     "output_type": "execute_result"
    }
   ],
   "source": [
    "waterStatsSuspendedSolids.unit.unique()"
   ]
  },
  {
   "cell_type": "markdown",
   "metadata": {},
   "source": [
    "### Introduce LAT and LONG "
   ]
  },
  {
   "cell_type": "code",
   "execution_count": 124,
   "metadata": {},
   "outputs": [],
   "source": [
    "waterStatsSuspendedSolids['LAT']=waterStatsSuspendedSolids.stationLocation.str.split(',', expand=True)[0]"
   ]
  },
  {
   "cell_type": "code",
   "execution_count": 125,
   "metadata": {},
   "outputs": [],
   "source": [
    "waterStatsSuspendedSolids['LONG']=waterStatsSuspendedSolids.stationLocation.str.split(',', expand=True)[1]"
   ]
  },
  {
   "cell_type": "code",
   "execution_count": 126,
   "metadata": {},
   "outputs": [
    {
     "data": {
      "text/html": [
       "<div>\n",
       "<style scoped>\n",
       "    .dataframe tbody tr th:only-of-type {\n",
       "        vertical-align: middle;\n",
       "    }\n",
       "\n",
       "    .dataframe tbody tr th {\n",
       "        vertical-align: top;\n",
       "    }\n",
       "\n",
       "    .dataframe thead th {\n",
       "        text-align: right;\n",
       "    }\n",
       "</style>\n",
       "<table border=\"1\" class=\"dataframe\">\n",
       "  <thead>\n",
       "    <tr style=\"text-align: right;\">\n",
       "      <th></th>\n",
       "      <th>date</th>\n",
       "      <th>time</th>\n",
       "      <th>station</th>\n",
       "      <th>parameter</th>\n",
       "      <th>result</th>\n",
       "      <th>unit</th>\n",
       "      <th>stationLocation</th>\n",
       "      <th>LAT</th>\n",
       "      <th>LONG</th>\n",
       "    </tr>\n",
       "  </thead>\n",
       "  <tbody>\n",
       "    <tr>\n",
       "      <th>17</th>\n",
       "      <td>04/05/1995</td>\n",
       "      <td>11:30</td>\n",
       "      <td>HAMILTON AVE.</td>\n",
       "      <td>Suspended Solids</td>\n",
       "      <td>1.0</td>\n",
       "      <td>mg/L</td>\n",
       "      <td>(39.33673, -76.53967)</td>\n",
       "      <td>(39.33673</td>\n",
       "      <td>-76.53967)</td>\n",
       "    </tr>\n",
       "    <tr>\n",
       "      <th>28</th>\n",
       "      <td>04/05/1995</td>\n",
       "      <td>13:30</td>\n",
       "      <td>RADECKE AVE.</td>\n",
       "      <td>Suspended Solids</td>\n",
       "      <td>1.0</td>\n",
       "      <td>mg/L</td>\n",
       "      <td>(39.33036, -76.53478)</td>\n",
       "      <td>(39.33036</td>\n",
       "      <td>-76.53478)</td>\n",
       "    </tr>\n",
       "    <tr>\n",
       "      <th>39</th>\n",
       "      <td>05/04/1995</td>\n",
       "      <td>11:30</td>\n",
       "      <td>BRANCH AVE.</td>\n",
       "      <td>Suspended Solids</td>\n",
       "      <td>10.0</td>\n",
       "      <td>mg/L</td>\n",
       "      <td>(39.340575, -76.542373)</td>\n",
       "      <td>(39.340575</td>\n",
       "      <td>-76.542373)</td>\n",
       "    </tr>\n",
       "    <tr>\n",
       "      <th>50</th>\n",
       "      <td>05/04/1995</td>\n",
       "      <td>14:00</td>\n",
       "      <td>MARY AVE.</td>\n",
       "      <td>Suspended Solids</td>\n",
       "      <td>9.0</td>\n",
       "      <td>mg/L</td>\n",
       "      <td>(39.343655, -76.541122)</td>\n",
       "      <td>(39.343655</td>\n",
       "      <td>-76.541122)</td>\n",
       "    </tr>\n",
       "    <tr>\n",
       "      <th>61</th>\n",
       "      <td>05/15/1995</td>\n",
       "      <td>11:00</td>\n",
       "      <td>MARY AVE.</td>\n",
       "      <td>Suspended Solids</td>\n",
       "      <td>1.0</td>\n",
       "      <td>mg/L</td>\n",
       "      <td>(39.343655, -76.541122)</td>\n",
       "      <td>(39.343655</td>\n",
       "      <td>-76.541122)</td>\n",
       "    </tr>\n",
       "  </tbody>\n",
       "</table>\n",
       "</div>"
      ],
      "text/plain": [
       "          date   time        station         parameter  result  unit  \\\n",
       "17  04/05/1995  11:30  HAMILTON AVE.  Suspended Solids     1.0  mg/L   \n",
       "28  04/05/1995  13:30   RADECKE AVE.  Suspended Solids     1.0  mg/L   \n",
       "39  05/04/1995  11:30    BRANCH AVE.  Suspended Solids    10.0  mg/L   \n",
       "50  05/04/1995  14:00      MARY AVE.  Suspended Solids     9.0  mg/L   \n",
       "61  05/15/1995  11:00      MARY AVE.  Suspended Solids     1.0  mg/L   \n",
       "\n",
       "            stationLocation         LAT          LONG  \n",
       "17    (39.33673, -76.53967)   (39.33673    -76.53967)  \n",
       "28    (39.33036, -76.53478)   (39.33036    -76.53478)  \n",
       "39  (39.340575, -76.542373)  (39.340575   -76.542373)  \n",
       "50  (39.343655, -76.541122)  (39.343655   -76.541122)  \n",
       "61  (39.343655, -76.541122)  (39.343655   -76.541122)  "
      ]
     },
     "execution_count": 126,
     "metadata": {},
     "output_type": "execute_result"
    }
   ],
   "source": [
    "waterStatsSuspendedSolids.head()"
   ]
  },
  {
   "cell_type": "code",
   "execution_count": 127,
   "metadata": {},
   "outputs": [],
   "source": [
    "waterStatsSuspendedSolids['LONG']=waterStatsSuspendedSolids.LONG.str.replace(')','')"
   ]
  },
  {
   "cell_type": "code",
   "execution_count": 128,
   "metadata": {},
   "outputs": [],
   "source": [
    "waterStatsSuspendedSolids['LAT']=waterStatsSuspendedSolids.LAT.str.replace('(','')"
   ]
  },
  {
   "cell_type": "code",
   "execution_count": 129,
   "metadata": {},
   "outputs": [
    {
     "data": {
      "text/html": [
       "<div>\n",
       "<style scoped>\n",
       "    .dataframe tbody tr th:only-of-type {\n",
       "        vertical-align: middle;\n",
       "    }\n",
       "\n",
       "    .dataframe tbody tr th {\n",
       "        vertical-align: top;\n",
       "    }\n",
       "\n",
       "    .dataframe thead th {\n",
       "        text-align: right;\n",
       "    }\n",
       "</style>\n",
       "<table border=\"1\" class=\"dataframe\">\n",
       "  <thead>\n",
       "    <tr style=\"text-align: right;\">\n",
       "      <th></th>\n",
       "      <th>date</th>\n",
       "      <th>time</th>\n",
       "      <th>station</th>\n",
       "      <th>parameter</th>\n",
       "      <th>result</th>\n",
       "      <th>unit</th>\n",
       "      <th>stationLocation</th>\n",
       "      <th>LAT</th>\n",
       "      <th>LONG</th>\n",
       "    </tr>\n",
       "  </thead>\n",
       "  <tbody>\n",
       "    <tr>\n",
       "      <th>17</th>\n",
       "      <td>04/05/1995</td>\n",
       "      <td>11:30</td>\n",
       "      <td>HAMILTON AVE.</td>\n",
       "      <td>Suspended Solids</td>\n",
       "      <td>1.0</td>\n",
       "      <td>mg/L</td>\n",
       "      <td>(39.33673, -76.53967)</td>\n",
       "      <td>39.33673</td>\n",
       "      <td>-76.53967</td>\n",
       "    </tr>\n",
       "    <tr>\n",
       "      <th>28</th>\n",
       "      <td>04/05/1995</td>\n",
       "      <td>13:30</td>\n",
       "      <td>RADECKE AVE.</td>\n",
       "      <td>Suspended Solids</td>\n",
       "      <td>1.0</td>\n",
       "      <td>mg/L</td>\n",
       "      <td>(39.33036, -76.53478)</td>\n",
       "      <td>39.33036</td>\n",
       "      <td>-76.53478</td>\n",
       "    </tr>\n",
       "    <tr>\n",
       "      <th>39</th>\n",
       "      <td>05/04/1995</td>\n",
       "      <td>11:30</td>\n",
       "      <td>BRANCH AVE.</td>\n",
       "      <td>Suspended Solids</td>\n",
       "      <td>10.0</td>\n",
       "      <td>mg/L</td>\n",
       "      <td>(39.340575, -76.542373)</td>\n",
       "      <td>39.340575</td>\n",
       "      <td>-76.542373</td>\n",
       "    </tr>\n",
       "    <tr>\n",
       "      <th>50</th>\n",
       "      <td>05/04/1995</td>\n",
       "      <td>14:00</td>\n",
       "      <td>MARY AVE.</td>\n",
       "      <td>Suspended Solids</td>\n",
       "      <td>9.0</td>\n",
       "      <td>mg/L</td>\n",
       "      <td>(39.343655, -76.541122)</td>\n",
       "      <td>39.343655</td>\n",
       "      <td>-76.541122</td>\n",
       "    </tr>\n",
       "    <tr>\n",
       "      <th>61</th>\n",
       "      <td>05/15/1995</td>\n",
       "      <td>11:00</td>\n",
       "      <td>MARY AVE.</td>\n",
       "      <td>Suspended Solids</td>\n",
       "      <td>1.0</td>\n",
       "      <td>mg/L</td>\n",
       "      <td>(39.343655, -76.541122)</td>\n",
       "      <td>39.343655</td>\n",
       "      <td>-76.541122</td>\n",
       "    </tr>\n",
       "  </tbody>\n",
       "</table>\n",
       "</div>"
      ],
      "text/plain": [
       "          date   time        station         parameter  result  unit  \\\n",
       "17  04/05/1995  11:30  HAMILTON AVE.  Suspended Solids     1.0  mg/L   \n",
       "28  04/05/1995  13:30   RADECKE AVE.  Suspended Solids     1.0  mg/L   \n",
       "39  05/04/1995  11:30    BRANCH AVE.  Suspended Solids    10.0  mg/L   \n",
       "50  05/04/1995  14:00      MARY AVE.  Suspended Solids     9.0  mg/L   \n",
       "61  05/15/1995  11:00      MARY AVE.  Suspended Solids     1.0  mg/L   \n",
       "\n",
       "            stationLocation        LAT         LONG  \n",
       "17    (39.33673, -76.53967)   39.33673    -76.53967  \n",
       "28    (39.33036, -76.53478)   39.33036    -76.53478  \n",
       "39  (39.340575, -76.542373)  39.340575   -76.542373  \n",
       "50  (39.343655, -76.541122)  39.343655   -76.541122  \n",
       "61  (39.343655, -76.541122)  39.343655   -76.541122  "
      ]
     },
     "execution_count": 129,
     "metadata": {},
     "output_type": "execute_result"
    }
   ],
   "source": [
    "waterStatsSuspendedSolids.head()"
   ]
  },
  {
   "cell_type": "code",
   "execution_count": 130,
   "metadata": {},
   "outputs": [
    {
     "data": {
      "text/plain": [
       "date                object\n",
       "time                object\n",
       "station             object\n",
       "parameter           object\n",
       "result             float64\n",
       "unit                object\n",
       "stationLocation     object\n",
       "LAT                 object\n",
       "LONG                object\n",
       "dtype: object"
      ]
     },
     "execution_count": 130,
     "metadata": {},
     "output_type": "execute_result"
    }
   ],
   "source": [
    "waterStatsSuspendedSolids.dtypes"
   ]
  },
  {
   "cell_type": "code",
   "execution_count": 131,
   "metadata": {},
   "outputs": [],
   "source": [
    "waterStatsSuspendedSolids.date = pd.to_datetime(waterStatsSuspendedSolids.date)"
   ]
  },
  {
   "cell_type": "code",
   "execution_count": 132,
   "metadata": {},
   "outputs": [],
   "source": [
    "waterStatsSuspendedSolids.LAT=waterStatsSuspendedSolids.LAT.astype(float)"
   ]
  },
  {
   "cell_type": "code",
   "execution_count": 133,
   "metadata": {},
   "outputs": [],
   "source": [
    "waterStatsSuspendedSolids.LONG=waterStatsSuspendedSolids.LONG.astype(float)"
   ]
  },
  {
   "cell_type": "code",
   "execution_count": 134,
   "metadata": {},
   "outputs": [
    {
     "data": {
      "text/plain": [
       "date               datetime64[ns]\n",
       "time                       object\n",
       "station                    object\n",
       "parameter                  object\n",
       "result                    float64\n",
       "unit                       object\n",
       "stationLocation            object\n",
       "LAT                       float64\n",
       "LONG                      float64\n",
       "dtype: object"
      ]
     },
     "execution_count": 134,
     "metadata": {},
     "output_type": "execute_result"
    }
   ],
   "source": [
    "waterStatsSuspendedSolids.dtypes"
   ]
  },
  {
   "cell_type": "code",
   "execution_count": 135,
   "metadata": {},
   "outputs": [],
   "source": [
    "waterStatsSuspendedSolids['year']=waterStatsSuspendedSolids.date.dt.year"
   ]
  },
  {
   "cell_type": "code",
   "execution_count": 136,
   "metadata": {},
   "outputs": [
    {
     "data": {
      "text/html": [
       "<div>\n",
       "<style scoped>\n",
       "    .dataframe tbody tr th:only-of-type {\n",
       "        vertical-align: middle;\n",
       "    }\n",
       "\n",
       "    .dataframe tbody tr th {\n",
       "        vertical-align: top;\n",
       "    }\n",
       "\n",
       "    .dataframe thead th {\n",
       "        text-align: right;\n",
       "    }\n",
       "</style>\n",
       "<table border=\"1\" class=\"dataframe\">\n",
       "  <thead>\n",
       "    <tr style=\"text-align: right;\">\n",
       "      <th></th>\n",
       "      <th>date</th>\n",
       "      <th>time</th>\n",
       "      <th>station</th>\n",
       "      <th>parameter</th>\n",
       "      <th>result</th>\n",
       "      <th>unit</th>\n",
       "      <th>stationLocation</th>\n",
       "      <th>LAT</th>\n",
       "      <th>LONG</th>\n",
       "      <th>year</th>\n",
       "    </tr>\n",
       "  </thead>\n",
       "  <tbody>\n",
       "    <tr>\n",
       "      <th>17</th>\n",
       "      <td>1995-04-05</td>\n",
       "      <td>11:30</td>\n",
       "      <td>HAMILTON AVE.</td>\n",
       "      <td>Suspended Solids</td>\n",
       "      <td>1.0</td>\n",
       "      <td>mg/L</td>\n",
       "      <td>(39.33673, -76.53967)</td>\n",
       "      <td>39.336730</td>\n",
       "      <td>-76.539670</td>\n",
       "      <td>1995</td>\n",
       "    </tr>\n",
       "    <tr>\n",
       "      <th>28</th>\n",
       "      <td>1995-04-05</td>\n",
       "      <td>13:30</td>\n",
       "      <td>RADECKE AVE.</td>\n",
       "      <td>Suspended Solids</td>\n",
       "      <td>1.0</td>\n",
       "      <td>mg/L</td>\n",
       "      <td>(39.33036, -76.53478)</td>\n",
       "      <td>39.330360</td>\n",
       "      <td>-76.534780</td>\n",
       "      <td>1995</td>\n",
       "    </tr>\n",
       "    <tr>\n",
       "      <th>39</th>\n",
       "      <td>1995-05-04</td>\n",
       "      <td>11:30</td>\n",
       "      <td>BRANCH AVE.</td>\n",
       "      <td>Suspended Solids</td>\n",
       "      <td>10.0</td>\n",
       "      <td>mg/L</td>\n",
       "      <td>(39.340575, -76.542373)</td>\n",
       "      <td>39.340575</td>\n",
       "      <td>-76.542373</td>\n",
       "      <td>1995</td>\n",
       "    </tr>\n",
       "    <tr>\n",
       "      <th>50</th>\n",
       "      <td>1995-05-04</td>\n",
       "      <td>14:00</td>\n",
       "      <td>MARY AVE.</td>\n",
       "      <td>Suspended Solids</td>\n",
       "      <td>9.0</td>\n",
       "      <td>mg/L</td>\n",
       "      <td>(39.343655, -76.541122)</td>\n",
       "      <td>39.343655</td>\n",
       "      <td>-76.541122</td>\n",
       "      <td>1995</td>\n",
       "    </tr>\n",
       "    <tr>\n",
       "      <th>61</th>\n",
       "      <td>1995-05-15</td>\n",
       "      <td>11:00</td>\n",
       "      <td>MARY AVE.</td>\n",
       "      <td>Suspended Solids</td>\n",
       "      <td>1.0</td>\n",
       "      <td>mg/L</td>\n",
       "      <td>(39.343655, -76.541122)</td>\n",
       "      <td>39.343655</td>\n",
       "      <td>-76.541122</td>\n",
       "      <td>1995</td>\n",
       "    </tr>\n",
       "  </tbody>\n",
       "</table>\n",
       "</div>"
      ],
      "text/plain": [
       "         date   time        station         parameter  result  unit  \\\n",
       "17 1995-04-05  11:30  HAMILTON AVE.  Suspended Solids     1.0  mg/L   \n",
       "28 1995-04-05  13:30   RADECKE AVE.  Suspended Solids     1.0  mg/L   \n",
       "39 1995-05-04  11:30    BRANCH AVE.  Suspended Solids    10.0  mg/L   \n",
       "50 1995-05-04  14:00      MARY AVE.  Suspended Solids     9.0  mg/L   \n",
       "61 1995-05-15  11:00      MARY AVE.  Suspended Solids     1.0  mg/L   \n",
       "\n",
       "            stationLocation        LAT       LONG  year  \n",
       "17    (39.33673, -76.53967)  39.336730 -76.539670  1995  \n",
       "28    (39.33036, -76.53478)  39.330360 -76.534780  1995  \n",
       "39  (39.340575, -76.542373)  39.340575 -76.542373  1995  \n",
       "50  (39.343655, -76.541122)  39.343655 -76.541122  1995  \n",
       "61  (39.343655, -76.541122)  39.343655 -76.541122  1995  "
      ]
     },
     "execution_count": 136,
     "metadata": {},
     "output_type": "execute_result"
    }
   ],
   "source": [
    "waterStatsSuspendedSolids.head()"
   ]
  },
  {
   "cell_type": "code",
   "execution_count": 137,
   "metadata": {},
   "outputs": [],
   "source": [
    "waterStatsSuspendedSolids.result=pd.to_numeric(waterStatsSuspendedSolids.result)"
   ]
  },
  {
   "cell_type": "code",
   "execution_count": 138,
   "metadata": {},
   "outputs": [],
   "source": [
    "#remove noise\n",
    "waterStatsSuspendedSolids=waterStatsSuspendedSolids[waterStatsSuspendedSolids.result<2000]\n"
   ]
  },
  {
   "cell_type": "markdown",
   "metadata": {},
   "source": [
    "waterStatsSuspendedSolids.head()"
   ]
  },
  {
   "cell_type": "code",
   "execution_count": 140,
   "metadata": {},
   "outputs": [
    {
     "data": {
      "text/plain": [
       "count    9353.000000\n",
       "mean       23.213942\n",
       "std        48.428193\n",
       "min         0.000000\n",
       "25%         3.000000\n",
       "50%        12.000000\n",
       "75%        28.000000\n",
       "max      1563.000000\n",
       "Name: result, dtype: float64"
      ]
     },
     "execution_count": 140,
     "metadata": {},
     "output_type": "execute_result"
    }
   ],
   "source": [
    "waterStatsSuspendedSolids.result.describe()"
   ]
  },
  {
   "cell_type": "markdown",
   "metadata": {},
   "source": [
    "### Building Score for Suspended Solids"
   ]
  },
  {
   "cell_type": "code",
   "execution_count": 142,
   "metadata": {},
   "outputs": [
    {
     "data": {
      "text/plain": [
       "75.0"
      ]
     },
     "execution_count": 142,
     "metadata": {},
     "output_type": "execute_result"
    }
   ],
   "source": [
    "waterStatsSuspendedSolids.result.quantile(0.95)"
   ]
  },
  {
   "cell_type": "markdown",
   "metadata": {},
   "source": [
    "95 percentile values are under 75, so score normalization should be according to this value."
   ]
  },
  {
   "cell_type": "code",
   "execution_count": 143,
   "metadata": {},
   "outputs": [],
   "source": [
    "waterStatsSuspendedSolids['score']=10-waterStatsSuspendedSolids.result/75*10"
   ]
  },
  {
   "cell_type": "code",
   "execution_count": 144,
   "metadata": {},
   "outputs": [],
   "source": [
    "waterStatsSuspendedSolids.loc[(waterStatsSuspendedSolids.score<0),['score']]=0"
   ]
  },
  {
   "cell_type": "code",
   "execution_count": 145,
   "metadata": {},
   "outputs": [
    {
     "data": {
      "text/plain": [
       "count    9353.000000\n",
       "mean        7.336127\n",
       "std         2.872760\n",
       "min         0.000000\n",
       "25%         6.266667\n",
       "50%         8.400000\n",
       "75%         9.600000\n",
       "max        10.000000\n",
       "Name: score, dtype: float64"
      ]
     },
     "execution_count": 145,
     "metadata": {},
     "output_type": "execute_result"
    }
   ],
   "source": [
    "waterStatsSuspendedSolids.score.describe()"
   ]
  },
  {
   "cell_type": "code",
   "execution_count": 146,
   "metadata": {},
   "outputs": [],
   "source": [
    "waterStatsSuspendedSolids['year']=waterStatsSuspendedSolids.date.dt.year"
   ]
  },
  {
   "cell_type": "code",
   "execution_count": 147,
   "metadata": {},
   "outputs": [
    {
     "data": {
      "text/html": [
       "<div>\n",
       "<style scoped>\n",
       "    .dataframe tbody tr th:only-of-type {\n",
       "        vertical-align: middle;\n",
       "    }\n",
       "\n",
       "    .dataframe tbody tr th {\n",
       "        vertical-align: top;\n",
       "    }\n",
       "\n",
       "    .dataframe thead th {\n",
       "        text-align: right;\n",
       "    }\n",
       "</style>\n",
       "<table border=\"1\" class=\"dataframe\">\n",
       "  <thead>\n",
       "    <tr style=\"text-align: right;\">\n",
       "      <th></th>\n",
       "      <th>date</th>\n",
       "      <th>time</th>\n",
       "      <th>station</th>\n",
       "      <th>parameter</th>\n",
       "      <th>result</th>\n",
       "      <th>unit</th>\n",
       "      <th>stationLocation</th>\n",
       "      <th>LAT</th>\n",
       "      <th>LONG</th>\n",
       "      <th>year</th>\n",
       "      <th>score</th>\n",
       "    </tr>\n",
       "  </thead>\n",
       "  <tbody>\n",
       "    <tr>\n",
       "      <th>17</th>\n",
       "      <td>1995-04-05</td>\n",
       "      <td>11:30</td>\n",
       "      <td>HAMILTON AVE.</td>\n",
       "      <td>Suspended Solids</td>\n",
       "      <td>1.0</td>\n",
       "      <td>mg/L</td>\n",
       "      <td>(39.33673, -76.53967)</td>\n",
       "      <td>39.336730</td>\n",
       "      <td>-76.539670</td>\n",
       "      <td>1995</td>\n",
       "      <td>9.866667</td>\n",
       "    </tr>\n",
       "    <tr>\n",
       "      <th>28</th>\n",
       "      <td>1995-04-05</td>\n",
       "      <td>13:30</td>\n",
       "      <td>RADECKE AVE.</td>\n",
       "      <td>Suspended Solids</td>\n",
       "      <td>1.0</td>\n",
       "      <td>mg/L</td>\n",
       "      <td>(39.33036, -76.53478)</td>\n",
       "      <td>39.330360</td>\n",
       "      <td>-76.534780</td>\n",
       "      <td>1995</td>\n",
       "      <td>9.866667</td>\n",
       "    </tr>\n",
       "    <tr>\n",
       "      <th>39</th>\n",
       "      <td>1995-05-04</td>\n",
       "      <td>11:30</td>\n",
       "      <td>BRANCH AVE.</td>\n",
       "      <td>Suspended Solids</td>\n",
       "      <td>10.0</td>\n",
       "      <td>mg/L</td>\n",
       "      <td>(39.340575, -76.542373)</td>\n",
       "      <td>39.340575</td>\n",
       "      <td>-76.542373</td>\n",
       "      <td>1995</td>\n",
       "      <td>8.666667</td>\n",
       "    </tr>\n",
       "    <tr>\n",
       "      <th>50</th>\n",
       "      <td>1995-05-04</td>\n",
       "      <td>14:00</td>\n",
       "      <td>MARY AVE.</td>\n",
       "      <td>Suspended Solids</td>\n",
       "      <td>9.0</td>\n",
       "      <td>mg/L</td>\n",
       "      <td>(39.343655, -76.541122)</td>\n",
       "      <td>39.343655</td>\n",
       "      <td>-76.541122</td>\n",
       "      <td>1995</td>\n",
       "      <td>8.800000</td>\n",
       "    </tr>\n",
       "    <tr>\n",
       "      <th>61</th>\n",
       "      <td>1995-05-15</td>\n",
       "      <td>11:00</td>\n",
       "      <td>MARY AVE.</td>\n",
       "      <td>Suspended Solids</td>\n",
       "      <td>1.0</td>\n",
       "      <td>mg/L</td>\n",
       "      <td>(39.343655, -76.541122)</td>\n",
       "      <td>39.343655</td>\n",
       "      <td>-76.541122</td>\n",
       "      <td>1995</td>\n",
       "      <td>9.866667</td>\n",
       "    </tr>\n",
       "    <tr>\n",
       "      <th>72</th>\n",
       "      <td>1995-05-15</td>\n",
       "      <td>11:45</td>\n",
       "      <td>BRANCH AVE.</td>\n",
       "      <td>Suspended Solids</td>\n",
       "      <td>5.0</td>\n",
       "      <td>mg/L</td>\n",
       "      <td>(39.340575, -76.542373)</td>\n",
       "      <td>39.340575</td>\n",
       "      <td>-76.542373</td>\n",
       "      <td>1995</td>\n",
       "      <td>9.333333</td>\n",
       "    </tr>\n",
       "    <tr>\n",
       "      <th>83</th>\n",
       "      <td>1995-05-15</td>\n",
       "      <td>12:29</td>\n",
       "      <td>RADECKE AVE.</td>\n",
       "      <td>Suspended Solids</td>\n",
       "      <td>3.0</td>\n",
       "      <td>mg/L</td>\n",
       "      <td>(39.33036, -76.53478)</td>\n",
       "      <td>39.330360</td>\n",
       "      <td>-76.534780</td>\n",
       "      <td>1995</td>\n",
       "      <td>9.600000</td>\n",
       "    </tr>\n",
       "    <tr>\n",
       "      <th>94</th>\n",
       "      <td>1995-05-15</td>\n",
       "      <td>13:30</td>\n",
       "      <td>HAMILTON AVE.</td>\n",
       "      <td>Suspended Solids</td>\n",
       "      <td>4.0</td>\n",
       "      <td>mg/L</td>\n",
       "      <td>(39.33673, -76.53967)</td>\n",
       "      <td>39.336730</td>\n",
       "      <td>-76.539670</td>\n",
       "      <td>1995</td>\n",
       "      <td>9.466667</td>\n",
       "    </tr>\n",
       "    <tr>\n",
       "      <th>105</th>\n",
       "      <td>1995-05-30</td>\n",
       "      <td>10:30</td>\n",
       "      <td>RADECKE AVE.</td>\n",
       "      <td>Suspended Solids</td>\n",
       "      <td>4.0</td>\n",
       "      <td>mg/L</td>\n",
       "      <td>(39.33036, -76.53478)</td>\n",
       "      <td>39.330360</td>\n",
       "      <td>-76.534780</td>\n",
       "      <td>1995</td>\n",
       "      <td>9.466667</td>\n",
       "    </tr>\n",
       "    <tr>\n",
       "      <th>116</th>\n",
       "      <td>1995-05-30</td>\n",
       "      <td>13:10</td>\n",
       "      <td>HAMILTON AVE.</td>\n",
       "      <td>Suspended Solids</td>\n",
       "      <td>3.0</td>\n",
       "      <td>mg/L</td>\n",
       "      <td>(39.33673, -76.53967)</td>\n",
       "      <td>39.336730</td>\n",
       "      <td>-76.539670</td>\n",
       "      <td>1995</td>\n",
       "      <td>9.600000</td>\n",
       "    </tr>\n",
       "  </tbody>\n",
       "</table>\n",
       "</div>"
      ],
      "text/plain": [
       "          date   time        station         parameter  result  unit  \\\n",
       "17  1995-04-05  11:30  HAMILTON AVE.  Suspended Solids     1.0  mg/L   \n",
       "28  1995-04-05  13:30   RADECKE AVE.  Suspended Solids     1.0  mg/L   \n",
       "39  1995-05-04  11:30    BRANCH AVE.  Suspended Solids    10.0  mg/L   \n",
       "50  1995-05-04  14:00      MARY AVE.  Suspended Solids     9.0  mg/L   \n",
       "61  1995-05-15  11:00      MARY AVE.  Suspended Solids     1.0  mg/L   \n",
       "72  1995-05-15  11:45    BRANCH AVE.  Suspended Solids     5.0  mg/L   \n",
       "83  1995-05-15  12:29   RADECKE AVE.  Suspended Solids     3.0  mg/L   \n",
       "94  1995-05-15  13:30  HAMILTON AVE.  Suspended Solids     4.0  mg/L   \n",
       "105 1995-05-30  10:30   RADECKE AVE.  Suspended Solids     4.0  mg/L   \n",
       "116 1995-05-30  13:10  HAMILTON AVE.  Suspended Solids     3.0  mg/L   \n",
       "\n",
       "             stationLocation        LAT       LONG  year     score  \n",
       "17     (39.33673, -76.53967)  39.336730 -76.539670  1995  9.866667  \n",
       "28     (39.33036, -76.53478)  39.330360 -76.534780  1995  9.866667  \n",
       "39   (39.340575, -76.542373)  39.340575 -76.542373  1995  8.666667  \n",
       "50   (39.343655, -76.541122)  39.343655 -76.541122  1995  8.800000  \n",
       "61   (39.343655, -76.541122)  39.343655 -76.541122  1995  9.866667  \n",
       "72   (39.340575, -76.542373)  39.340575 -76.542373  1995  9.333333  \n",
       "83     (39.33036, -76.53478)  39.330360 -76.534780  1995  9.600000  \n",
       "94     (39.33673, -76.53967)  39.336730 -76.539670  1995  9.466667  \n",
       "105    (39.33036, -76.53478)  39.330360 -76.534780  1995  9.466667  \n",
       "116    (39.33673, -76.53967)  39.336730 -76.539670  1995  9.600000  "
      ]
     },
     "execution_count": 147,
     "metadata": {},
     "output_type": "execute_result"
    }
   ],
   "source": [
    "waterStatsSuspendedSolids.head(10)"
   ]
  },
  {
   "cell_type": "code",
   "execution_count": 148,
   "metadata": {},
   "outputs": [
    {
     "data": {
      "text/plain": [
       "<matplotlib.axes._subplots.AxesSubplot at 0x23e8648e6d8>"
      ]
     },
     "execution_count": 148,
     "metadata": {},
     "output_type": "execute_result"
    },
    {
     "data": {
      "image/png": "[encoded data removed]",
      "text/plain": [
       "<Figure size 1080x576 with 1 Axes>"
      ]
     },
     "metadata": {},
     "output_type": "display_data"
    }
   ],
   "source": [
    "sns.violinplot(data=waterStatsSuspendedSolids,x='year',y='score')"
   ]
  },
  {
   "cell_type": "code",
   "execution_count": 149,
   "metadata": {},
   "outputs": [],
   "source": [
    "waterStatsSuspendedSolids.LAT=pd.to_numeric(waterStatsSuspendedSolids.LAT)"
   ]
  },
  {
   "cell_type": "code",
   "execution_count": 150,
   "metadata": {},
   "outputs": [],
   "source": [
    "waterStatsSuspendedSolids.LONG=pd.to_numeric(waterStatsSuspendedSolids.LONG)"
   ]
  },
  {
   "cell_type": "code",
   "execution_count": 151,
   "metadata": {},
   "outputs": [],
   "source": [
    "waterStatsSuspendedSolids=pd.merge(waterStatsSuspendedSolids,zipsCodes,left_on=['LAT','LONG'],right_on=['LAT','LONG'])"
   ]
  },
  {
   "cell_type": "code",
   "execution_count": 152,
   "metadata": {},
   "outputs": [],
   "source": [
    "ss_21223 = waterStatsSuspendedSolids[waterStatsSuspendedSolids.ZIP==21223]"
   ]
  },
  {
   "cell_type": "markdown",
   "metadata": {},
   "source": [
    "### Visualization for Suspended Solids for 21223 ZIP station "
   ]
  },
  {
   "cell_type": "code",
   "execution_count": 154,
   "metadata": {},
   "outputs": [
    {
     "data": {
      "text/plain": [
       "<matplotlib.axes._subplots.AxesSubplot at 0x23e862f3c88>"
      ]
     },
     "execution_count": 154,
     "metadata": {},
     "output_type": "execute_result"
    },
    {
     "data": {
      "image/png": "[encoded data removed]",
      "text/plain": [
       "<Figure size 1080x576 with 1 Axes>"
      ]
     },
     "metadata": {},
     "output_type": "display_data"
    }
   ],
   "source": [
    "sns.violinplot(data=ss_21223,x='year',y='score')"
   ]
  },
  {
   "cell_type": "markdown",
   "metadata": {},
   "source": [
    " ### Building score for Dissolved Oxygen parameter"
   ]
  },
  {
   "cell_type": "code",
   "execution_count": 157,
   "metadata": {},
   "outputs": [
    {
     "data": {
      "text/html": [
       "<div>\n",
       "<style scoped>\n",
       "    .dataframe tbody tr th:only-of-type {\n",
       "        vertical-align: middle;\n",
       "    }\n",
       "\n",
       "    .dataframe tbody tr th {\n",
       "        vertical-align: top;\n",
       "    }\n",
       "\n",
       "    .dataframe thead th {\n",
       "        text-align: right;\n",
       "    }\n",
       "</style>\n",
       "<table border=\"1\" class=\"dataframe\">\n",
       "  <thead>\n",
       "    <tr style=\"text-align: right;\">\n",
       "      <th></th>\n",
       "      <th>date</th>\n",
       "      <th>time</th>\n",
       "      <th>station</th>\n",
       "      <th>parameter</th>\n",
       "      <th>result</th>\n",
       "      <th>unit</th>\n",
       "      <th>stationLocation</th>\n",
       "    </tr>\n",
       "  </thead>\n",
       "  <tbody>\n",
       "    <tr>\n",
       "      <th>3077</th>\n",
       "      <td>05/07/1997</td>\n",
       "      <td>9:30</td>\n",
       "      <td>POWDER MILL</td>\n",
       "      <td>Dissolved Oxygen</td>\n",
       "      <td>9.94</td>\n",
       "      <td>mg/L</td>\n",
       "      <td>(39.3359, -76.71046)</td>\n",
       "    </tr>\n",
       "    <tr>\n",
       "      <th>3104</th>\n",
       "      <td>05/07/1997</td>\n",
       "      <td>10:00</td>\n",
       "      <td>PURNELL DR.</td>\n",
       "      <td>Dissolved Oxygen</td>\n",
       "      <td>11.56</td>\n",
       "      <td>mg/L</td>\n",
       "      <td>(39.33269, -76.71222)</td>\n",
       "    </tr>\n",
       "    <tr>\n",
       "      <th>3132</th>\n",
       "      <td>05/07/1997</td>\n",
       "      <td>10:45</td>\n",
       "      <td>DEAD RUN DNST.</td>\n",
       "      <td>Dissolved Oxygen</td>\n",
       "      <td>13.6</td>\n",
       "      <td>mg/L</td>\n",
       "      <td>(39.30509, -76.68639)</td>\n",
       "    </tr>\n",
       "    <tr>\n",
       "      <th>3160</th>\n",
       "      <td>05/07/1997</td>\n",
       "      <td>10:45</td>\n",
       "      <td>SMITH AVE.</td>\n",
       "      <td>Dissolved Oxygen</td>\n",
       "      <td>10.3</td>\n",
       "      <td>mg/L</td>\n",
       "      <td>(39.36782, -76.6487)</td>\n",
       "    </tr>\n",
       "    <tr>\n",
       "      <th>3188</th>\n",
       "      <td>05/07/1997</td>\n",
       "      <td>11:20</td>\n",
       "      <td>ASH ST.</td>\n",
       "      <td>Dissolved Oxygen</td>\n",
       "      <td>12.04</td>\n",
       "      <td>mg/L</td>\n",
       "      <td>(39.32737, -76.64001)</td>\n",
       "    </tr>\n",
       "  </tbody>\n",
       "</table>\n",
       "</div>"
      ],
      "text/plain": [
       "            date   time         station         parameter result  unit  \\\n",
       "3077  05/07/1997   9:30     POWDER MILL  Dissolved Oxygen   9.94  mg/L   \n",
       "3104  05/07/1997  10:00     PURNELL DR.  Dissolved Oxygen  11.56  mg/L   \n",
       "3132  05/07/1997  10:45  DEAD RUN DNST.  Dissolved Oxygen   13.6  mg/L   \n",
       "3160  05/07/1997  10:45      SMITH AVE.  Dissolved Oxygen   10.3  mg/L   \n",
       "3188  05/07/1997  11:20         ASH ST.  Dissolved Oxygen  12.04  mg/L   \n",
       "\n",
       "            stationLocation  \n",
       "3077   (39.3359, -76.71046)  \n",
       "3104  (39.33269, -76.71222)  \n",
       "3132  (39.30509, -76.68639)  \n",
       "3160   (39.36782, -76.6487)  \n",
       "3188  (39.32737, -76.64001)  "
      ]
     },
     "execution_count": 157,
     "metadata": {},
     "output_type": "execute_result"
    }
   ],
   "source": [
    "waterStatsOxygen.head()"
   ]
  },
  {
   "cell_type": "code",
   "execution_count": 190,
   "metadata": {},
   "outputs": [
    {
     "name": "stderr",
     "output_type": "stream",
     "text": [
      "C:\\Users\\Rishabh\\Anaconda3\\lib\\site-packages\\pandas\\core\\generic.py:4405: SettingWithCopyWarning: \n",
      "A value is trying to be set on a copy of a slice from a DataFrame.\n",
      "Try using .loc[row_indexer,col_indexer] = value instead\n",
      "\n",
      "See the caveats in the documentation: http://pandas.pydata.org/pandas-docs/stable/indexing.html#indexing-view-versus-copy\n",
      "  self[name] = value\n"
     ]
    }
   ],
   "source": [
    "waterStatsOxygen.result=waterStatsOxygen.result.astype('float')"
   ]
  },
  {
   "cell_type": "code",
   "execution_count": 191,
   "metadata": {},
   "outputs": [
    {
     "data": {
      "text/plain": [
       "count    26784.000000\n",
       "mean        10.324607\n",
       "std          5.833684\n",
       "min          0.190000\n",
       "25%          8.530000\n",
       "50%         10.140000\n",
       "75%         12.100000\n",
       "max        860.000000\n",
       "Name: result, dtype: float64"
      ]
     },
     "execution_count": 191,
     "metadata": {},
     "output_type": "execute_result"
    }
   ],
   "source": [
    "waterStatsOxygen.result.describe()"
   ]
  },
  {
   "cell_type": "code",
   "execution_count": 192,
   "metadata": {},
   "outputs": [
    {
     "data": {
      "text/plain": [
       "16.92"
      ]
     },
     "execution_count": 192,
     "metadata": {},
     "output_type": "execute_result"
    }
   ],
   "source": [
    "waterStatsOxygen.result.quantile(0.99)"
   ]
  },
  {
   "cell_type": "code",
   "execution_count": 193,
   "metadata": {},
   "outputs": [
    {
     "name": "stderr",
     "output_type": "stream",
     "text": [
      "C:\\Users\\Rishabh\\Anaconda3\\lib\\site-packages\\ipykernel_launcher.py:1: SettingWithCopyWarning: \n",
      "A value is trying to be set on a copy of a slice from a DataFrame.\n",
      "Try using .loc[row_indexer,col_indexer] = value instead\n",
      "\n",
      "See the caveats in the documentation: http://pandas.pydata.org/pandas-docs/stable/indexing.html#indexing-view-versus-copy\n",
      "  \"\"\"Entry point for launching an IPython kernel.\n"
     ]
    }
   ],
   "source": [
    "waterStatsOxygen['score']=(waterStatsOxygen.result/16.92)*10"
   ]
  },
  {
   "cell_type": "code",
   "execution_count": 194,
   "metadata": {},
   "outputs": [
    {
     "data": {
      "text/html": [
       "<div>\n",
       "<style scoped>\n",
       "    .dataframe tbody tr th:only-of-type {\n",
       "        vertical-align: middle;\n",
       "    }\n",
       "\n",
       "    .dataframe tbody tr th {\n",
       "        vertical-align: top;\n",
       "    }\n",
       "\n",
       "    .dataframe thead th {\n",
       "        text-align: right;\n",
       "    }\n",
       "</style>\n",
       "<table border=\"1\" class=\"dataframe\">\n",
       "  <thead>\n",
       "    <tr style=\"text-align: right;\">\n",
       "      <th></th>\n",
       "      <th>date</th>\n",
       "      <th>time</th>\n",
       "      <th>station</th>\n",
       "      <th>parameter</th>\n",
       "      <th>result</th>\n",
       "      <th>unit</th>\n",
       "      <th>stationLocation</th>\n",
       "      <th>score</th>\n",
       "    </tr>\n",
       "  </thead>\n",
       "  <tbody>\n",
       "    <tr>\n",
       "      <th>3077</th>\n",
       "      <td>05/07/1997</td>\n",
       "      <td>9:30</td>\n",
       "      <td>POWDER MILL</td>\n",
       "      <td>Dissolved Oxygen</td>\n",
       "      <td>9.94</td>\n",
       "      <td>mg/L</td>\n",
       "      <td>(39.3359, -76.71046)</td>\n",
       "      <td>5.874704</td>\n",
       "    </tr>\n",
       "    <tr>\n",
       "      <th>3104</th>\n",
       "      <td>05/07/1997</td>\n",
       "      <td>10:00</td>\n",
       "      <td>PURNELL DR.</td>\n",
       "      <td>Dissolved Oxygen</td>\n",
       "      <td>11.56</td>\n",
       "      <td>mg/L</td>\n",
       "      <td>(39.33269, -76.71222)</td>\n",
       "      <td>6.832151</td>\n",
       "    </tr>\n",
       "    <tr>\n",
       "      <th>3132</th>\n",
       "      <td>05/07/1997</td>\n",
       "      <td>10:45</td>\n",
       "      <td>DEAD RUN DNST.</td>\n",
       "      <td>Dissolved Oxygen</td>\n",
       "      <td>13.60</td>\n",
       "      <td>mg/L</td>\n",
       "      <td>(39.30509, -76.68639)</td>\n",
       "      <td>8.037825</td>\n",
       "    </tr>\n",
       "    <tr>\n",
       "      <th>3160</th>\n",
       "      <td>05/07/1997</td>\n",
       "      <td>10:45</td>\n",
       "      <td>SMITH AVE.</td>\n",
       "      <td>Dissolved Oxygen</td>\n",
       "      <td>10.30</td>\n",
       "      <td>mg/L</td>\n",
       "      <td>(39.36782, -76.6487)</td>\n",
       "      <td>6.087470</td>\n",
       "    </tr>\n",
       "    <tr>\n",
       "      <th>3188</th>\n",
       "      <td>05/07/1997</td>\n",
       "      <td>11:20</td>\n",
       "      <td>ASH ST.</td>\n",
       "      <td>Dissolved Oxygen</td>\n",
       "      <td>12.04</td>\n",
       "      <td>mg/L</td>\n",
       "      <td>(39.32737, -76.64001)</td>\n",
       "      <td>7.115839</td>\n",
       "    </tr>\n",
       "  </tbody>\n",
       "</table>\n",
       "</div>"
      ],
      "text/plain": [
       "            date   time         station         parameter  result  unit  \\\n",
       "3077  05/07/1997   9:30     POWDER MILL  Dissolved Oxygen    9.94  mg/L   \n",
       "3104  05/07/1997  10:00     PURNELL DR.  Dissolved Oxygen   11.56  mg/L   \n",
       "3132  05/07/1997  10:45  DEAD RUN DNST.  Dissolved Oxygen   13.60  mg/L   \n",
       "3160  05/07/1997  10:45      SMITH AVE.  Dissolved Oxygen   10.30  mg/L   \n",
       "3188  05/07/1997  11:20         ASH ST.  Dissolved Oxygen   12.04  mg/L   \n",
       "\n",
       "            stationLocation     score  \n",
       "3077   (39.3359, -76.71046)  5.874704  \n",
       "3104  (39.33269, -76.71222)  6.832151  \n",
       "3132  (39.30509, -76.68639)  8.037825  \n",
       "3160   (39.36782, -76.6487)  6.087470  \n",
       "3188  (39.32737, -76.64001)  7.115839  "
      ]
     },
     "execution_count": 194,
     "metadata": {},
     "output_type": "execute_result"
    }
   ],
   "source": [
    "waterStatsOxygen.head()"
   ]
  },
  {
   "cell_type": "code",
   "execution_count": 195,
   "metadata": {},
   "outputs": [],
   "source": [
    "waterStatsOxygen=waterStatsOxygen[waterStatsOxygen.score<=10]"
   ]
  },
  {
   "cell_type": "code",
   "execution_count": 196,
   "metadata": {},
   "outputs": [
    {
     "data": {
      "text/plain": [
       "count    26518.000000\n",
       "mean         6.038008\n",
       "std          1.512077\n",
       "min          0.112293\n",
       "25%          5.035461\n",
       "50%          5.975177\n",
       "75%          7.115839\n",
       "max         10.000000\n",
       "Name: score, dtype: float64"
      ]
     },
     "execution_count": 196,
     "metadata": {},
     "output_type": "execute_result"
    }
   ],
   "source": [
    "waterStatsOxygen.score.describe()"
   ]
  },
  {
   "cell_type": "code",
   "execution_count": 197,
   "metadata": {},
   "outputs": [],
   "source": [
    "waterStatsOxygen.date = pd.to_datetime(waterStatsOxygen.date)"
   ]
  },
  {
   "cell_type": "code",
   "execution_count": 198,
   "metadata": {},
   "outputs": [
    {
     "data": {
      "text/plain": [
       "date               datetime64[ns]\n",
       "time                       object\n",
       "station                    object\n",
       "parameter                  object\n",
       "result                    float64\n",
       "unit                       object\n",
       "stationLocation            object\n",
       "score                     float64\n",
       "dtype: object"
      ]
     },
     "execution_count": 198,
     "metadata": {},
     "output_type": "execute_result"
    }
   ],
   "source": [
    "waterStatsOxygen.dtypes"
   ]
  },
  {
   "cell_type": "code",
   "execution_count": 199,
   "metadata": {},
   "outputs": [],
   "source": [
    "waterStatsOxygen['year']=waterStatsOxygen.date.dt.year"
   ]
  },
  {
   "cell_type": "code",
   "execution_count": 201,
   "metadata": {},
   "outputs": [],
   "source": [
    "waterStatsOxygen['LAT']=waterStatsOxygen.stationLocation.str.split(',',expand=True)[0]"
   ]
  },
  {
   "cell_type": "code",
   "execution_count": 202,
   "metadata": {},
   "outputs": [],
   "source": [
    "waterStatsOxygen['LONG']=waterStatsOxygen.stationLocation.str.split(',',expand=True)[1]"
   ]
  },
  {
   "cell_type": "code",
   "execution_count": 203,
   "metadata": {},
   "outputs": [],
   "source": [
    "waterStatsOxygen.LAT=waterStatsOxygen.LAT.str.replace('(','')"
   ]
  },
  {
   "cell_type": "code",
   "execution_count": 204,
   "metadata": {},
   "outputs": [],
   "source": [
    "waterStatsOxygen.LONG=waterStatsOxygen.LONG.str.replace(')','')"
   ]
  },
  {
   "cell_type": "code",
   "execution_count": 205,
   "metadata": {},
   "outputs": [
    {
     "data": {
      "text/html": [
       "<div>\n",
       "<style scoped>\n",
       "    .dataframe tbody tr th:only-of-type {\n",
       "        vertical-align: middle;\n",
       "    }\n",
       "\n",
       "    .dataframe tbody tr th {\n",
       "        vertical-align: top;\n",
       "    }\n",
       "\n",
       "    .dataframe thead th {\n",
       "        text-align: right;\n",
       "    }\n",
       "</style>\n",
       "<table border=\"1\" class=\"dataframe\">\n",
       "  <thead>\n",
       "    <tr style=\"text-align: right;\">\n",
       "      <th></th>\n",
       "      <th>date</th>\n",
       "      <th>time</th>\n",
       "      <th>station</th>\n",
       "      <th>parameter</th>\n",
       "      <th>result</th>\n",
       "      <th>unit</th>\n",
       "      <th>stationLocation</th>\n",
       "      <th>score</th>\n",
       "      <th>year</th>\n",
       "      <th>LAT</th>\n",
       "      <th>LONG</th>\n",
       "    </tr>\n",
       "  </thead>\n",
       "  <tbody>\n",
       "    <tr>\n",
       "      <th>3077</th>\n",
       "      <td>1997-05-07</td>\n",
       "      <td>9:30</td>\n",
       "      <td>POWDER MILL</td>\n",
       "      <td>Dissolved Oxygen</td>\n",
       "      <td>9.94</td>\n",
       "      <td>mg/L</td>\n",
       "      <td>(39.3359, -76.71046)</td>\n",
       "      <td>5.874704</td>\n",
       "      <td>1997</td>\n",
       "      <td>39.3359</td>\n",
       "      <td>-76.71046</td>\n",
       "    </tr>\n",
       "    <tr>\n",
       "      <th>3104</th>\n",
       "      <td>1997-05-07</td>\n",
       "      <td>10:00</td>\n",
       "      <td>PURNELL DR.</td>\n",
       "      <td>Dissolved Oxygen</td>\n",
       "      <td>11.56</td>\n",
       "      <td>mg/L</td>\n",
       "      <td>(39.33269, -76.71222)</td>\n",
       "      <td>6.832151</td>\n",
       "      <td>1997</td>\n",
       "      <td>39.33269</td>\n",
       "      <td>-76.71222</td>\n",
       "    </tr>\n",
       "    <tr>\n",
       "      <th>3132</th>\n",
       "      <td>1997-05-07</td>\n",
       "      <td>10:45</td>\n",
       "      <td>DEAD RUN DNST.</td>\n",
       "      <td>Dissolved Oxygen</td>\n",
       "      <td>13.60</td>\n",
       "      <td>mg/L</td>\n",
       "      <td>(39.30509, -76.68639)</td>\n",
       "      <td>8.037825</td>\n",
       "      <td>1997</td>\n",
       "      <td>39.30509</td>\n",
       "      <td>-76.68639</td>\n",
       "    </tr>\n",
       "    <tr>\n",
       "      <th>3160</th>\n",
       "      <td>1997-05-07</td>\n",
       "      <td>10:45</td>\n",
       "      <td>SMITH AVE.</td>\n",
       "      <td>Dissolved Oxygen</td>\n",
       "      <td>10.30</td>\n",
       "      <td>mg/L</td>\n",
       "      <td>(39.36782, -76.6487)</td>\n",
       "      <td>6.087470</td>\n",
       "      <td>1997</td>\n",
       "      <td>39.36782</td>\n",
       "      <td>-76.6487</td>\n",
       "    </tr>\n",
       "    <tr>\n",
       "      <th>3188</th>\n",
       "      <td>1997-05-07</td>\n",
       "      <td>11:20</td>\n",
       "      <td>ASH ST.</td>\n",
       "      <td>Dissolved Oxygen</td>\n",
       "      <td>12.04</td>\n",
       "      <td>mg/L</td>\n",
       "      <td>(39.32737, -76.64001)</td>\n",
       "      <td>7.115839</td>\n",
       "      <td>1997</td>\n",
       "      <td>39.32737</td>\n",
       "      <td>-76.64001</td>\n",
       "    </tr>\n",
       "  </tbody>\n",
       "</table>\n",
       "</div>"
      ],
      "text/plain": [
       "           date   time         station         parameter  result  unit  \\\n",
       "3077 1997-05-07   9:30     POWDER MILL  Dissolved Oxygen    9.94  mg/L   \n",
       "3104 1997-05-07  10:00     PURNELL DR.  Dissolved Oxygen   11.56  mg/L   \n",
       "3132 1997-05-07  10:45  DEAD RUN DNST.  Dissolved Oxygen   13.60  mg/L   \n",
       "3160 1997-05-07  10:45      SMITH AVE.  Dissolved Oxygen   10.30  mg/L   \n",
       "3188 1997-05-07  11:20         ASH ST.  Dissolved Oxygen   12.04  mg/L   \n",
       "\n",
       "            stationLocation     score  year       LAT        LONG  \n",
       "3077   (39.3359, -76.71046)  5.874704  1997   39.3359   -76.71046  \n",
       "3104  (39.33269, -76.71222)  6.832151  1997  39.33269   -76.71222  \n",
       "3132  (39.30509, -76.68639)  8.037825  1997  39.30509   -76.68639  \n",
       "3160   (39.36782, -76.6487)  6.087470  1997  39.36782    -76.6487  \n",
       "3188  (39.32737, -76.64001)  7.115839  1997  39.32737   -76.64001  "
      ]
     },
     "execution_count": 205,
     "metadata": {},
     "output_type": "execute_result"
    }
   ],
   "source": [
    "waterStatsOxygen.head()"
   ]
  },
  {
   "cell_type": "code",
   "execution_count": 206,
   "metadata": {},
   "outputs": [
    {
     "data": {
      "text/plain": [
       "date               datetime64[ns]\n",
       "time                       object\n",
       "station                    object\n",
       "parameter                  object\n",
       "result                    float64\n",
       "unit                       object\n",
       "stationLocation            object\n",
       "score                     float64\n",
       "year                        int64\n",
       "LAT                        object\n",
       "LONG                       object\n",
       "dtype: object"
      ]
     },
     "execution_count": 206,
     "metadata": {},
     "output_type": "execute_result"
    }
   ],
   "source": [
    "waterStatsOxygen.dtypes"
   ]
  },
  {
   "cell_type": "code",
   "execution_count": 207,
   "metadata": {},
   "outputs": [],
   "source": [
    "waterStatsOxygen.LAT=pd.to_numeric(waterStatsOxygen.LAT)"
   ]
  },
  {
   "cell_type": "code",
   "execution_count": 208,
   "metadata": {},
   "outputs": [],
   "source": [
    "waterStatsOxygen.LONG=pd.to_numeric(waterStatsOxygen.LONG)"
   ]
  },
  {
   "cell_type": "code",
   "execution_count": 209,
   "metadata": {},
   "outputs": [],
   "source": [
    "waterStatsOxygen=pd.merge(waterStatsOxygen,zipsCodes,left_on=['LAT','LONG'],right_on=['LAT','LONG'])"
   ]
  },
  {
   "cell_type": "code",
   "execution_count": 210,
   "metadata": {},
   "outputs": [
    {
     "data": {
      "text/html": [
       "<div>\n",
       "<style scoped>\n",
       "    .dataframe tbody tr th:only-of-type {\n",
       "        vertical-align: middle;\n",
       "    }\n",
       "\n",
       "    .dataframe tbody tr th {\n",
       "        vertical-align: top;\n",
       "    }\n",
       "\n",
       "    .dataframe thead th {\n",
       "        text-align: right;\n",
       "    }\n",
       "</style>\n",
       "<table border=\"1\" class=\"dataframe\">\n",
       "  <thead>\n",
       "    <tr style=\"text-align: right;\">\n",
       "      <th></th>\n",
       "      <th>date</th>\n",
       "      <th>time</th>\n",
       "      <th>station</th>\n",
       "      <th>parameter</th>\n",
       "      <th>result</th>\n",
       "      <th>unit</th>\n",
       "      <th>stationLocation</th>\n",
       "      <th>score</th>\n",
       "      <th>year</th>\n",
       "      <th>LAT</th>\n",
       "      <th>LONG</th>\n",
       "      <th>ZIP</th>\n",
       "    </tr>\n",
       "  </thead>\n",
       "  <tbody>\n",
       "    <tr>\n",
       "      <th>0</th>\n",
       "      <td>1997-05-07</td>\n",
       "      <td>9:30</td>\n",
       "      <td>POWDER MILL</td>\n",
       "      <td>Dissolved Oxygen</td>\n",
       "      <td>9.94</td>\n",
       "      <td>mg/L</td>\n",
       "      <td>(39.3359, -76.71046)</td>\n",
       "      <td>5.874704</td>\n",
       "      <td>1997</td>\n",
       "      <td>39.3359</td>\n",
       "      <td>-76.71046</td>\n",
       "      <td>21207</td>\n",
       "    </tr>\n",
       "    <tr>\n",
       "      <th>1</th>\n",
       "      <td>1997-06-24</td>\n",
       "      <td>10:00</td>\n",
       "      <td>POWDER MILL</td>\n",
       "      <td>Dissolved Oxygen</td>\n",
       "      <td>9.57</td>\n",
       "      <td>mg/L</td>\n",
       "      <td>(39.3359, -76.71046)</td>\n",
       "      <td>5.656028</td>\n",
       "      <td>1997</td>\n",
       "      <td>39.3359</td>\n",
       "      <td>-76.71046</td>\n",
       "      <td>21207</td>\n",
       "    </tr>\n",
       "    <tr>\n",
       "      <th>2</th>\n",
       "      <td>1997-07-21</td>\n",
       "      <td>7:15</td>\n",
       "      <td>POWDER MILL</td>\n",
       "      <td>Dissolved Oxygen</td>\n",
       "      <td>6.68</td>\n",
       "      <td>mg/L</td>\n",
       "      <td>(39.3359, -76.71046)</td>\n",
       "      <td>3.947991</td>\n",
       "      <td>1997</td>\n",
       "      <td>39.3359</td>\n",
       "      <td>-76.71046</td>\n",
       "      <td>21207</td>\n",
       "    </tr>\n",
       "    <tr>\n",
       "      <th>3</th>\n",
       "      <td>1997-08-13</td>\n",
       "      <td>9:35</td>\n",
       "      <td>POWDER MILL</td>\n",
       "      <td>Dissolved Oxygen</td>\n",
       "      <td>8.12</td>\n",
       "      <td>mg/L</td>\n",
       "      <td>(39.3359, -76.71046)</td>\n",
       "      <td>4.799054</td>\n",
       "      <td>1997</td>\n",
       "      <td>39.3359</td>\n",
       "      <td>-76.71046</td>\n",
       "      <td>21207</td>\n",
       "    </tr>\n",
       "    <tr>\n",
       "      <th>4</th>\n",
       "      <td>1997-09-08</td>\n",
       "      <td>8:00</td>\n",
       "      <td>POWDER MILL</td>\n",
       "      <td>Dissolved Oxygen</td>\n",
       "      <td>6.42</td>\n",
       "      <td>mg/L</td>\n",
       "      <td>(39.3359, -76.71046)</td>\n",
       "      <td>3.794326</td>\n",
       "      <td>1997</td>\n",
       "      <td>39.3359</td>\n",
       "      <td>-76.71046</td>\n",
       "      <td>21207</td>\n",
       "    </tr>\n",
       "  </tbody>\n",
       "</table>\n",
       "</div>"
      ],
      "text/plain": [
       "        date   time      station         parameter  result  unit  \\\n",
       "0 1997-05-07   9:30  POWDER MILL  Dissolved Oxygen    9.94  mg/L   \n",
       "1 1997-06-24  10:00  POWDER MILL  Dissolved Oxygen    9.57  mg/L   \n",
       "2 1997-07-21   7:15  POWDER MILL  Dissolved Oxygen    6.68  mg/L   \n",
       "3 1997-08-13   9:35  POWDER MILL  Dissolved Oxygen    8.12  mg/L   \n",
       "4 1997-09-08   8:00  POWDER MILL  Dissolved Oxygen    6.42  mg/L   \n",
       "\n",
       "        stationLocation     score  year      LAT      LONG    ZIP  \n",
       "0  (39.3359, -76.71046)  5.874704  1997  39.3359 -76.71046  21207  \n",
       "1  (39.3359, -76.71046)  5.656028  1997  39.3359 -76.71046  21207  \n",
       "2  (39.3359, -76.71046)  3.947991  1997  39.3359 -76.71046  21207  \n",
       "3  (39.3359, -76.71046)  4.799054  1997  39.3359 -76.71046  21207  \n",
       "4  (39.3359, -76.71046)  3.794326  1997  39.3359 -76.71046  21207  "
      ]
     },
     "execution_count": 210,
     "metadata": {},
     "output_type": "execute_result"
    }
   ],
   "source": [
    "waterStatsOxygen.head()"
   ]
  },
  {
   "cell_type": "code",
   "execution_count": 211,
   "metadata": {},
   "outputs": [
    {
     "name": "stderr",
     "output_type": "stream",
     "text": [
      "C:\\Users\\Rishabh\\Anaconda3\\lib\\site-packages\\scipy\\stats\\stats.py:1713: FutureWarning: Using a non-tuple sequence for multidimensional indexing is deprecated; use `arr[tuple(seq)]` instead of `arr[seq]`. In the future this will be interpreted as an array index, `arr[np.array(seq)]`, which will result either in an error or a different result.\n",
      "  return np.add.reduce(sorted[indexer] * weights, axis=axis) / sumval\n"
     ]
    },
    {
     "data": {
      "text/plain": [
       "<matplotlib.axes._subplots.AxesSubplot at 0x2355c80d9e8>"
      ]
     },
     "execution_count": 211,
     "metadata": {},
     "output_type": "execute_result"
    },
    {
     "data": {
      "image/png": "[encoded data removed]",
      "text/plain": [
       "<Figure size 1080x576 with 1 Axes>"
      ]
     },
     "metadata": {
      "needs_background": "light"
     },
     "output_type": "display_data"
    }
   ],
   "source": [
    "sns.violinplot(data=waterStatsOxygen,x='year',y='score')"
   ]
  },
  {
   "cell_type": "markdown",
   "metadata": {},
   "source": [
    "### Building Score For Lead Parameter"
   ]
  },
  {
   "cell_type": "code",
   "execution_count": 214,
   "metadata": {},
   "outputs": [
    {
     "data": {
      "text/html": [
       "<div>\n",
       "<style scoped>\n",
       "    .dataframe tbody tr th:only-of-type {\n",
       "        vertical-align: middle;\n",
       "    }\n",
       "\n",
       "    .dataframe tbody tr th {\n",
       "        vertical-align: top;\n",
       "    }\n",
       "\n",
       "    .dataframe thead th {\n",
       "        text-align: right;\n",
       "    }\n",
       "</style>\n",
       "<table border=\"1\" class=\"dataframe\">\n",
       "  <thead>\n",
       "    <tr style=\"text-align: right;\">\n",
       "      <th></th>\n",
       "      <th>date</th>\n",
       "      <th>time</th>\n",
       "      <th>station</th>\n",
       "      <th>parameter</th>\n",
       "      <th>result</th>\n",
       "      <th>unit</th>\n",
       "      <th>stationLocation</th>\n",
       "    </tr>\n",
       "  </thead>\n",
       "  <tbody>\n",
       "    <tr>\n",
       "      <th>2</th>\n",
       "      <td>04/03/1995</td>\n",
       "      <td>13:30</td>\n",
       "      <td>HAMILTON AVE.</td>\n",
       "      <td>Lead, Total</td>\n",
       "      <td>40</td>\n",
       "      <td>ug/L</td>\n",
       "      <td>(39.33673, -76.53967)</td>\n",
       "    </tr>\n",
       "    <tr>\n",
       "      <th>7</th>\n",
       "      <td>04/03/1995</td>\n",
       "      <td>15:40</td>\n",
       "      <td>RADECKE AVE.</td>\n",
       "      <td>Lead, Total</td>\n",
       "      <td>30</td>\n",
       "      <td>ug/L</td>\n",
       "      <td>(39.33036, -76.53478)</td>\n",
       "    </tr>\n",
       "    <tr>\n",
       "      <th>14</th>\n",
       "      <td>04/05/1995</td>\n",
       "      <td>11:30</td>\n",
       "      <td>HAMILTON AVE.</td>\n",
       "      <td>Lead, Total</td>\n",
       "      <td>90</td>\n",
       "      <td>ug/L</td>\n",
       "      <td>(39.33673, -76.53967)</td>\n",
       "    </tr>\n",
       "    <tr>\n",
       "      <th>25</th>\n",
       "      <td>04/05/1995</td>\n",
       "      <td>13:30</td>\n",
       "      <td>RADECKE AVE.</td>\n",
       "      <td>Lead, Total</td>\n",
       "      <td>90</td>\n",
       "      <td>ug/L</td>\n",
       "      <td>(39.33036, -76.53478)</td>\n",
       "    </tr>\n",
       "    <tr>\n",
       "      <th>36</th>\n",
       "      <td>05/04/1995</td>\n",
       "      <td>11:30</td>\n",
       "      <td>BRANCH AVE.</td>\n",
       "      <td>Lead, Total</td>\n",
       "      <td>&lt;30</td>\n",
       "      <td>ug/L</td>\n",
       "      <td>(39.340575, -76.542373)</td>\n",
       "    </tr>\n",
       "  </tbody>\n",
       "</table>\n",
       "</div>"
      ],
      "text/plain": [
       "          date   time        station    parameter result  unit  \\\n",
       "2   04/03/1995  13:30  HAMILTON AVE.  Lead, Total     40  ug/L   \n",
       "7   04/03/1995  15:40   RADECKE AVE.  Lead, Total     30  ug/L   \n",
       "14  04/05/1995  11:30  HAMILTON AVE.  Lead, Total     90  ug/L   \n",
       "25  04/05/1995  13:30   RADECKE AVE.  Lead, Total     90  ug/L   \n",
       "36  05/04/1995  11:30    BRANCH AVE.  Lead, Total    <30  ug/L   \n",
       "\n",
       "            stationLocation  \n",
       "2     (39.33673, -76.53967)  \n",
       "7     (39.33036, -76.53478)  \n",
       "14    (39.33673, -76.53967)  \n",
       "25    (39.33036, -76.53478)  \n",
       "36  (39.340575, -76.542373)  "
      ]
     },
     "execution_count": 214,
     "metadata": {},
     "output_type": "execute_result"
    }
   ],
   "source": [
    "waterStatsLead.head()"
   ]
  },
  {
   "cell_type": "markdown",
   "metadata": {},
   "source": [
    "### More the lead is, harmful it is for aquatic bodies and surroundings. https://extension.psu.edu/lead-in-drinking-water"
   ]
  },
  {
   "cell_type": "code",
   "execution_count": 158,
   "metadata": {},
   "outputs": [],
   "source": [
    "waterStatsLead.result=waterStatsLead.result.str.replace('[^0-9]','')"
   ]
  },
  {
   "cell_type": "code",
   "execution_count": 159,
   "metadata": {},
   "outputs": [],
   "source": [
    "waterStatsLead.result = pd.to_numeric(waterStatsLead.result)"
   ]
  },
  {
   "cell_type": "code",
   "execution_count": 217,
   "metadata": {},
   "outputs": [
    {
     "data": {
      "text/plain": [
       "371.2999999999993"
      ]
     },
     "execution_count": 217,
     "metadata": {},
     "output_type": "execute_result"
    }
   ],
   "source": [
    "waterStatsLead.result.quantile(0.95)"
   ]
  },
  {
   "cell_type": "code",
   "execution_count": 218,
   "metadata": {},
   "outputs": [
    {
     "data": {
      "text/plain": [
       "count     6775.000000\n",
       "mean       147.288118\n",
       "std       2084.574324\n",
       "min          1.000000\n",
       "25%         12.000000\n",
       "50%         41.000000\n",
       "75%        100.000000\n",
       "max      70002.000000\n",
       "Name: result, dtype: float64"
      ]
     },
     "execution_count": 218,
     "metadata": {},
     "output_type": "execute_result"
    }
   ],
   "source": [
    "waterStatsLead.result.describe()"
   ]
  },
  {
   "cell_type": "code",
   "execution_count": 219,
   "metadata": {},
   "outputs": [],
   "source": [
    "waterStatsLead=waterStatsLead.dropna() ## Cleaning"
   ]
  },
  {
   "cell_type": "code",
   "execution_count": 220,
   "metadata": {},
   "outputs": [
    {
     "data": {
      "text/plain": [
       "784.0"
      ]
     },
     "execution_count": 220,
     "metadata": {},
     "output_type": "execute_result"
    }
   ],
   "source": [
    "waterStatsLead.result.quantile(0.99)"
   ]
  },
  {
   "cell_type": "code",
   "execution_count": 221,
   "metadata": {},
   "outputs": [],
   "source": [
    "waterStatsLead=waterStatsLead[waterStatsLead.result<=784]"
   ]
  },
  {
   "cell_type": "code",
   "execution_count": 223,
   "metadata": {},
   "outputs": [],
   "source": [
    "waterStatsLead['score'] = 10-(waterStatsLead['result']/100)*10"
   ]
  },
  {
   "cell_type": "code",
   "execution_count": 225,
   "metadata": {},
   "outputs": [],
   "source": [
    "waterStatsLead.loc[(waterStatsLead.score<0),['score']]=0"
   ]
  },
  {
   "cell_type": "code",
   "execution_count": 226,
   "metadata": {},
   "outputs": [
    {
     "data": {
      "text/plain": [
       "count    6706.000000\n",
       "mean        5.018416\n",
       "std         3.912028\n",
       "min         0.000000\n",
       "25%         0.000000\n",
       "50%         6.000000\n",
       "75%         8.800000\n",
       "max         9.900000\n",
       "Name: score, dtype: float64"
      ]
     },
     "execution_count": 226,
     "metadata": {},
     "output_type": "execute_result"
    }
   ],
   "source": [
    "waterStatsLead.score.describe()"
   ]
  },
  {
   "cell_type": "code",
   "execution_count": 227,
   "metadata": {},
   "outputs": [],
   "source": [
    "waterStatsLead.date = pd.to_datetime(waterStatsLead.date)"
   ]
  },
  {
   "cell_type": "code",
   "execution_count": 228,
   "metadata": {},
   "outputs": [],
   "source": [
    "waterStatsLead['year']=waterStatsLead.date.dt.year"
   ]
  },
  {
   "cell_type": "code",
   "execution_count": 229,
   "metadata": {},
   "outputs": [],
   "source": [
    "waterStatsLead['LAT']=waterStatsLead.stationLocation.str.split(',',expand=True)[0]"
   ]
  },
  {
   "cell_type": "code",
   "execution_count": 230,
   "metadata": {},
   "outputs": [],
   "source": [
    "waterStatsLead['LONG']=waterStatsLead.stationLocation.str.split(',',expand=True)[1]"
   ]
  },
  {
   "cell_type": "code",
   "execution_count": 231,
   "metadata": {},
   "outputs": [],
   "source": [
    "waterStatsLead['LONG']=waterStatsLead['LONG'].str.replace(\")\",'')"
   ]
  },
  {
   "cell_type": "code",
   "execution_count": 232,
   "metadata": {},
   "outputs": [],
   "source": [
    "waterStatsLead['LAT']=waterStatsLead['LAT'].str.replace(\"(\",'')"
   ]
  },
  {
   "cell_type": "code",
   "execution_count": 233,
   "metadata": {},
   "outputs": [],
   "source": [
    "waterStatsLead['LONG']=pd.to_numeric(waterStatsLead['LONG'])"
   ]
  },
  {
   "cell_type": "code",
   "execution_count": 234,
   "metadata": {},
   "outputs": [],
   "source": [
    "waterStatsLead['LAT']=pd.to_numeric(waterStatsLead['LAT'])"
   ]
  },
  {
   "cell_type": "code",
   "execution_count": 235,
   "metadata": {},
   "outputs": [
    {
     "data": {
      "text/plain": [
       "date               datetime64[ns]\n",
       "time                       object\n",
       "station                    object\n",
       "parameter                  object\n",
       "result                      int64\n",
       "unit                       object\n",
       "stationLocation            object\n",
       "score                     float64\n",
       "year                        int64\n",
       "LAT                       float64\n",
       "LONG                      float64\n",
       "dtype: object"
      ]
     },
     "execution_count": 235,
     "metadata": {},
     "output_type": "execute_result"
    }
   ],
   "source": [
    "waterStatsLead.dtypes"
   ]
  },
  {
   "cell_type": "code",
   "execution_count": 236,
   "metadata": {},
   "outputs": [
    {
     "data": {
      "text/html": [
       "<div>\n",
       "<style scoped>\n",
       "    .dataframe tbody tr th:only-of-type {\n",
       "        vertical-align: middle;\n",
       "    }\n",
       "\n",
       "    .dataframe tbody tr th {\n",
       "        vertical-align: top;\n",
       "    }\n",
       "\n",
       "    .dataframe thead th {\n",
       "        text-align: right;\n",
       "    }\n",
       "</style>\n",
       "<table border=\"1\" class=\"dataframe\">\n",
       "  <thead>\n",
       "    <tr style=\"text-align: right;\">\n",
       "      <th></th>\n",
       "      <th>date</th>\n",
       "      <th>time</th>\n",
       "      <th>station</th>\n",
       "      <th>parameter</th>\n",
       "      <th>result</th>\n",
       "      <th>unit</th>\n",
       "      <th>stationLocation</th>\n",
       "      <th>score</th>\n",
       "      <th>year</th>\n",
       "      <th>LAT</th>\n",
       "      <th>LONG</th>\n",
       "    </tr>\n",
       "  </thead>\n",
       "  <tbody>\n",
       "    <tr>\n",
       "      <th>2</th>\n",
       "      <td>1995-04-03</td>\n",
       "      <td>13:30</td>\n",
       "      <td>HAMILTON AVE.</td>\n",
       "      <td>Lead, Total</td>\n",
       "      <td>40</td>\n",
       "      <td>ug/L</td>\n",
       "      <td>(39.33673, -76.53967)</td>\n",
       "      <td>6.0</td>\n",
       "      <td>1995</td>\n",
       "      <td>39.336730</td>\n",
       "      <td>-76.539670</td>\n",
       "    </tr>\n",
       "    <tr>\n",
       "      <th>7</th>\n",
       "      <td>1995-04-03</td>\n",
       "      <td>15:40</td>\n",
       "      <td>RADECKE AVE.</td>\n",
       "      <td>Lead, Total</td>\n",
       "      <td>30</td>\n",
       "      <td>ug/L</td>\n",
       "      <td>(39.33036, -76.53478)</td>\n",
       "      <td>7.0</td>\n",
       "      <td>1995</td>\n",
       "      <td>39.330360</td>\n",
       "      <td>-76.534780</td>\n",
       "    </tr>\n",
       "    <tr>\n",
       "      <th>14</th>\n",
       "      <td>1995-04-05</td>\n",
       "      <td>11:30</td>\n",
       "      <td>HAMILTON AVE.</td>\n",
       "      <td>Lead, Total</td>\n",
       "      <td>90</td>\n",
       "      <td>ug/L</td>\n",
       "      <td>(39.33673, -76.53967)</td>\n",
       "      <td>1.0</td>\n",
       "      <td>1995</td>\n",
       "      <td>39.336730</td>\n",
       "      <td>-76.539670</td>\n",
       "    </tr>\n",
       "    <tr>\n",
       "      <th>25</th>\n",
       "      <td>1995-04-05</td>\n",
       "      <td>13:30</td>\n",
       "      <td>RADECKE AVE.</td>\n",
       "      <td>Lead, Total</td>\n",
       "      <td>90</td>\n",
       "      <td>ug/L</td>\n",
       "      <td>(39.33036, -76.53478)</td>\n",
       "      <td>1.0</td>\n",
       "      <td>1995</td>\n",
       "      <td>39.330360</td>\n",
       "      <td>-76.534780</td>\n",
       "    </tr>\n",
       "    <tr>\n",
       "      <th>36</th>\n",
       "      <td>1995-05-04</td>\n",
       "      <td>11:30</td>\n",
       "      <td>BRANCH AVE.</td>\n",
       "      <td>Lead, Total</td>\n",
       "      <td>30</td>\n",
       "      <td>ug/L</td>\n",
       "      <td>(39.340575, -76.542373)</td>\n",
       "      <td>7.0</td>\n",
       "      <td>1995</td>\n",
       "      <td>39.340575</td>\n",
       "      <td>-76.542373</td>\n",
       "    </tr>\n",
       "  </tbody>\n",
       "</table>\n",
       "</div>"
      ],
      "text/plain": [
       "         date   time        station    parameter  result  unit  \\\n",
       "2  1995-04-03  13:30  HAMILTON AVE.  Lead, Total      40  ug/L   \n",
       "7  1995-04-03  15:40   RADECKE AVE.  Lead, Total      30  ug/L   \n",
       "14 1995-04-05  11:30  HAMILTON AVE.  Lead, Total      90  ug/L   \n",
       "25 1995-04-05  13:30   RADECKE AVE.  Lead, Total      90  ug/L   \n",
       "36 1995-05-04  11:30    BRANCH AVE.  Lead, Total      30  ug/L   \n",
       "\n",
       "            stationLocation  score  year        LAT       LONG  \n",
       "2     (39.33673, -76.53967)    6.0  1995  39.336730 -76.539670  \n",
       "7     (39.33036, -76.53478)    7.0  1995  39.330360 -76.534780  \n",
       "14    (39.33673, -76.53967)    1.0  1995  39.336730 -76.539670  \n",
       "25    (39.33036, -76.53478)    1.0  1995  39.330360 -76.534780  \n",
       "36  (39.340575, -76.542373)    7.0  1995  39.340575 -76.542373  "
      ]
     },
     "execution_count": 236,
     "metadata": {},
     "output_type": "execute_result"
    }
   ],
   "source": [
    "waterStatsLead.head()"
   ]
  },
  {
   "cell_type": "code",
   "execution_count": 237,
   "metadata": {},
   "outputs": [],
   "source": [
    "waterStatsLead=pd.merge(waterStatsLead,zipsCodes,left_on=['LAT','LONG'],right_on=['LAT','LONG'])"
   ]
  },
  {
   "cell_type": "code",
   "execution_count": 238,
   "metadata": {},
   "outputs": [
    {
     "data": {
      "text/html": [
       "<div>\n",
       "<style scoped>\n",
       "    .dataframe tbody tr th:only-of-type {\n",
       "        vertical-align: middle;\n",
       "    }\n",
       "\n",
       "    .dataframe tbody tr th {\n",
       "        vertical-align: top;\n",
       "    }\n",
       "\n",
       "    .dataframe thead th {\n",
       "        text-align: right;\n",
       "    }\n",
       "</style>\n",
       "<table border=\"1\" class=\"dataframe\">\n",
       "  <thead>\n",
       "    <tr style=\"text-align: right;\">\n",
       "      <th></th>\n",
       "      <th>date</th>\n",
       "      <th>time</th>\n",
       "      <th>station</th>\n",
       "      <th>parameter</th>\n",
       "      <th>result</th>\n",
       "      <th>unit</th>\n",
       "      <th>stationLocation</th>\n",
       "      <th>score</th>\n",
       "      <th>year</th>\n",
       "      <th>LAT</th>\n",
       "      <th>LONG</th>\n",
       "      <th>ZIP</th>\n",
       "    </tr>\n",
       "  </thead>\n",
       "  <tbody>\n",
       "    <tr>\n",
       "      <th>0</th>\n",
       "      <td>1995-04-03</td>\n",
       "      <td>13:30</td>\n",
       "      <td>HAMILTON AVE.</td>\n",
       "      <td>Lead, Total</td>\n",
       "      <td>40</td>\n",
       "      <td>ug/L</td>\n",
       "      <td>(39.33673, -76.53967)</td>\n",
       "      <td>6.0</td>\n",
       "      <td>1995</td>\n",
       "      <td>39.33673</td>\n",
       "      <td>-76.53967</td>\n",
       "      <td>21206</td>\n",
       "    </tr>\n",
       "    <tr>\n",
       "      <th>1</th>\n",
       "      <td>1995-04-05</td>\n",
       "      <td>11:30</td>\n",
       "      <td>HAMILTON AVE.</td>\n",
       "      <td>Lead, Total</td>\n",
       "      <td>90</td>\n",
       "      <td>ug/L</td>\n",
       "      <td>(39.33673, -76.53967)</td>\n",
       "      <td>1.0</td>\n",
       "      <td>1995</td>\n",
       "      <td>39.33673</td>\n",
       "      <td>-76.53967</td>\n",
       "      <td>21206</td>\n",
       "    </tr>\n",
       "    <tr>\n",
       "      <th>2</th>\n",
       "      <td>1995-05-15</td>\n",
       "      <td>13:30</td>\n",
       "      <td>HAMILTON AVE.</td>\n",
       "      <td>Lead, Total</td>\n",
       "      <td>50</td>\n",
       "      <td>ug/L</td>\n",
       "      <td>(39.33673, -76.53967)</td>\n",
       "      <td>5.0</td>\n",
       "      <td>1995</td>\n",
       "      <td>39.33673</td>\n",
       "      <td>-76.53967</td>\n",
       "      <td>21206</td>\n",
       "    </tr>\n",
       "    <tr>\n",
       "      <th>3</th>\n",
       "      <td>1995-05-30</td>\n",
       "      <td>13:10</td>\n",
       "      <td>HAMILTON AVE.</td>\n",
       "      <td>Lead, Total</td>\n",
       "      <td>30</td>\n",
       "      <td>ug/L</td>\n",
       "      <td>(39.33673, -76.53967)</td>\n",
       "      <td>7.0</td>\n",
       "      <td>1995</td>\n",
       "      <td>39.33673</td>\n",
       "      <td>-76.53967</td>\n",
       "      <td>21206</td>\n",
       "    </tr>\n",
       "    <tr>\n",
       "      <th>4</th>\n",
       "      <td>1995-06-14</td>\n",
       "      <td>10:45</td>\n",
       "      <td>HAMILTON AVE.</td>\n",
       "      <td>Lead, Total</td>\n",
       "      <td>30</td>\n",
       "      <td>ug/L</td>\n",
       "      <td>(39.33673, -76.53967)</td>\n",
       "      <td>7.0</td>\n",
       "      <td>1995</td>\n",
       "      <td>39.33673</td>\n",
       "      <td>-76.53967</td>\n",
       "      <td>21206</td>\n",
       "    </tr>\n",
       "  </tbody>\n",
       "</table>\n",
       "</div>"
      ],
      "text/plain": [
       "        date   time        station    parameter  result  unit  \\\n",
       "0 1995-04-03  13:30  HAMILTON AVE.  Lead, Total      40  ug/L   \n",
       "1 1995-04-05  11:30  HAMILTON AVE.  Lead, Total      90  ug/L   \n",
       "2 1995-05-15  13:30  HAMILTON AVE.  Lead, Total      50  ug/L   \n",
       "3 1995-05-30  13:10  HAMILTON AVE.  Lead, Total      30  ug/L   \n",
       "4 1995-06-14  10:45  HAMILTON AVE.  Lead, Total      30  ug/L   \n",
       "\n",
       "         stationLocation  score  year       LAT      LONG    ZIP  \n",
       "0  (39.33673, -76.53967)    6.0  1995  39.33673 -76.53967  21206  \n",
       "1  (39.33673, -76.53967)    1.0  1995  39.33673 -76.53967  21206  \n",
       "2  (39.33673, -76.53967)    5.0  1995  39.33673 -76.53967  21206  \n",
       "3  (39.33673, -76.53967)    7.0  1995  39.33673 -76.53967  21206  \n",
       "4  (39.33673, -76.53967)    7.0  1995  39.33673 -76.53967  21206  "
      ]
     },
     "execution_count": 238,
     "metadata": {},
     "output_type": "execute_result"
    }
   ],
   "source": [
    "waterStatsLead.head()"
   ]
  },
  {
   "cell_type": "markdown",
   "metadata": {},
   "source": [
    "### Visualization for Lead Score across Baltimore during 1995-2018-- Sudden decrement is seen post 2014"
   ]
  },
  {
   "cell_type": "code",
   "execution_count": 239,
   "metadata": {},
   "outputs": [
    {
     "name": "stderr",
     "output_type": "stream",
     "text": [
      "C:\\Users\\Rishabh\\Anaconda3\\lib\\site-packages\\scipy\\stats\\stats.py:1713: FutureWarning: Using a non-tuple sequence for multidimensional indexing is deprecated; use `arr[tuple(seq)]` instead of `arr[seq]`. In the future this will be interpreted as an array index, `arr[np.array(seq)]`, which will result either in an error or a different result.\n",
      "  return np.add.reduce(sorted[indexer] * weights, axis=axis) / sumval\n"
     ]
    },
    {
     "data": {
      "text/plain": [
       "<matplotlib.axes._subplots.AxesSubplot at 0x2355c9fc860>"
      ]
     },
     "execution_count": 239,
     "metadata": {},
     "output_type": "execute_result"
    },
    {
     "data": {
      "image/png": "[encoded data removed]",
      "text/plain": [
       "<Figure size 1080x576 with 1 Axes>"
      ]
     },
     "metadata": {
      "needs_background": "light"
     },
     "output_type": "display_data"
    }
   ],
   "source": [
    "sns.violinplot(data=waterStatsLead,x='year',y='score')"
   ]
  },
  {
   "cell_type": "code",
   "execution_count": 241,
   "metadata": {},
   "outputs": [],
   "source": [
    "waterStatspH.date=pd.to_datetime(waterStatspH.date)"
   ]
  },
  {
   "cell_type": "code",
   "execution_count": 242,
   "metadata": {},
   "outputs": [],
   "source": [
    "waterStatspH['year']=waterStatspH.date.dt.year"
   ]
  },
  {
   "cell_type": "code",
   "execution_count": 243,
   "metadata": {},
   "outputs": [],
   "source": [
    "waterStatspH=waterStatspH.rename(columns={'pHScore':'score'})"
   ]
  },
  {
   "cell_type": "code",
   "execution_count": 244,
   "metadata": {},
   "outputs": [],
   "source": [
    "waterStatspH.score=pd.to_numeric(waterStatspH.score)"
   ]
  },
  {
   "cell_type": "code",
   "execution_count": 248,
   "metadata": {},
   "outputs": [],
   "source": [
    "waterStatsSuspendedSolids.drop_duplicates(inplace=True)"
   ]
  },
  {
   "cell_type": "code",
   "execution_count": 249,
   "metadata": {},
   "outputs": [],
   "source": [
    "waterStatspH.drop_duplicates(inplace=True)"
   ]
  },
  {
   "cell_type": "code",
   "execution_count": 250,
   "metadata": {},
   "outputs": [],
   "source": [
    "waterStatsOxygen.drop_duplicates(inplace=True)"
   ]
  },
  {
   "cell_type": "code",
   "execution_count": 251,
   "metadata": {},
   "outputs": [],
   "source": [
    "waterStatsLead.drop_duplicates(inplace=True)"
   ]
  },
  {
   "cell_type": "code",
   "execution_count": 252,
   "metadata": {},
   "outputs": [],
   "source": [
    "waterStatspH=waterStatspH.drop(columns=['parameter','result','unit'])"
   ]
  },
  {
   "cell_type": "code",
   "execution_count": 253,
   "metadata": {},
   "outputs": [],
   "source": [
    "waterStatsOxygen=waterStatsOxygen.drop(columns=['parameter','result','unit'])"
   ]
  },
  {
   "cell_type": "code",
   "execution_count": 254,
   "metadata": {},
   "outputs": [],
   "source": [
    "waterStatsSuspendedSolids=waterStatsSuspendedSolids.drop(columns=['parameter','result','unit'])"
   ]
  },
  {
   "cell_type": "code",
   "execution_count": 255,
   "metadata": {},
   "outputs": [],
   "source": [
    "waterStatsLead=waterStatsLead.drop(columns=['parameter','result','unit'])"
   ]
  },
  {
   "cell_type": "markdown",
   "metadata": {},
   "source": [
    "### Merging all data frames to get a combined mean score"
   ]
  },
  {
   "cell_type": "code",
   "execution_count": 257,
   "metadata": {},
   "outputs": [],
   "source": [
    "waterStatspH=waterStatspH.rename(columns={'score':'pHscore'})"
   ]
  },
  {
   "cell_type": "code",
   "execution_count": 258,
   "metadata": {},
   "outputs": [],
   "source": [
    "waterStatsLead=waterStatsLead.rename(columns={'score':'leadScore'})"
   ]
  },
  {
   "cell_type": "code",
   "execution_count": 259,
   "metadata": {},
   "outputs": [],
   "source": [
    "waterStatsSuspendedSolids=waterStatsSuspendedSolids.rename(columns={'score':'ssScore'})"
   ]
  },
  {
   "cell_type": "code",
   "execution_count": 260,
   "metadata": {},
   "outputs": [],
   "source": [
    "waterStatsOxygen=waterStatsOxygen.rename(columns={'score':'oxyScore'})"
   ]
  },
  {
   "cell_type": "code",
   "execution_count": 263,
   "metadata": {},
   "outputs": [],
   "source": [
    "dfPH_SS=pd.merge(waterStatspH,waterStatsSuspendedSolids,left_on=['date','time','stationLocation','station','LAT','LONG','year','ZIP']\n",
    "            ,right_on=['date','time','stationLocation','station','LAT','LONG','year','ZIP'])"
   ]
  },
  {
   "cell_type": "code",
   "execution_count": 265,
   "metadata": {},
   "outputs": [],
   "source": [
    "dfOxy_lead=pd.merge(waterStatsLead,waterStatsOxygen,left_on=['date','time','stationLocation','station','LAT','LONG','year','ZIP']\n",
    "            ,right_on=['date','time','stationLocation','station','LAT','LONG','year','ZIP'])"
   ]
  },
  {
   "cell_type": "code",
   "execution_count": 266,
   "metadata": {},
   "outputs": [],
   "source": [
    "df_waterPollution=pd.merge(dfOxy_lead,dfPH_SS,left_on=['date','time','stationLocation','station','LAT','LONG','year','ZIP']\n",
    "            ,right_on=['date','time','stationLocation','station','LAT','LONG','year','ZIP'])"
   ]
  },
  {
   "cell_type": "code",
   "execution_count": 270,
   "metadata": {},
   "outputs": [
    {
     "data": {
      "text/html": [
       "<div>\n",
       "<style scoped>\n",
       "    .dataframe tbody tr th:only-of-type {\n",
       "        vertical-align: middle;\n",
       "    }\n",
       "\n",
       "    .dataframe tbody tr th {\n",
       "        vertical-align: top;\n",
       "    }\n",
       "\n",
       "    .dataframe thead th {\n",
       "        text-align: right;\n",
       "    }\n",
       "</style>\n",
       "<table border=\"1\" class=\"dataframe\">\n",
       "  <thead>\n",
       "    <tr style=\"text-align: right;\">\n",
       "      <th></th>\n",
       "      <th>date</th>\n",
       "      <th>time</th>\n",
       "      <th>station</th>\n",
       "      <th>stationLocation</th>\n",
       "      <th>leadScore</th>\n",
       "      <th>year</th>\n",
       "      <th>LAT</th>\n",
       "      <th>LONG</th>\n",
       "      <th>ZIP</th>\n",
       "      <th>oxyScore</th>\n",
       "      <th>pHscore</th>\n",
       "      <th>ssScore</th>\n",
       "    </tr>\n",
       "  </thead>\n",
       "  <tbody>\n",
       "    <tr>\n",
       "      <th>0</th>\n",
       "      <td>1997-05-09</td>\n",
       "      <td>9:50</td>\n",
       "      <td>RADECKE AVE.</td>\n",
       "      <td>(39.33036, -76.53478)</td>\n",
       "      <td>9.5</td>\n",
       "      <td>1997</td>\n",
       "      <td>39.33036</td>\n",
       "      <td>-76.53478</td>\n",
       "      <td>21206</td>\n",
       "      <td>5.141844</td>\n",
       "      <td>9.280000</td>\n",
       "      <td>9.733333</td>\n",
       "    </tr>\n",
       "    <tr>\n",
       "      <th>1</th>\n",
       "      <td>1997-05-09</td>\n",
       "      <td>9:50</td>\n",
       "      <td>RADECKE AVE.</td>\n",
       "      <td>(39.33036, -76.53478)</td>\n",
       "      <td>9.5</td>\n",
       "      <td>1997</td>\n",
       "      <td>39.33036</td>\n",
       "      <td>-76.53478</td>\n",
       "      <td>21206</td>\n",
       "      <td>5.141844</td>\n",
       "      <td>9.280000</td>\n",
       "      <td>9.200000</td>\n",
       "    </tr>\n",
       "    <tr>\n",
       "      <th>2</th>\n",
       "      <td>1997-06-09</td>\n",
       "      <td>11:35</td>\n",
       "      <td>RADECKE AVE.</td>\n",
       "      <td>(39.33036, -76.53478)</td>\n",
       "      <td>9.5</td>\n",
       "      <td>1997</td>\n",
       "      <td>39.33036</td>\n",
       "      <td>-76.53478</td>\n",
       "      <td>21206</td>\n",
       "      <td>5.295508</td>\n",
       "      <td>9.893333</td>\n",
       "      <td>9.600000</td>\n",
       "    </tr>\n",
       "    <tr>\n",
       "      <th>3</th>\n",
       "      <td>1997-06-09</td>\n",
       "      <td>11:35</td>\n",
       "      <td>RADECKE AVE.</td>\n",
       "      <td>(39.33036, -76.53478)</td>\n",
       "      <td>9.5</td>\n",
       "      <td>1997</td>\n",
       "      <td>39.33036</td>\n",
       "      <td>-76.53478</td>\n",
       "      <td>21206</td>\n",
       "      <td>5.295508</td>\n",
       "      <td>9.893333</td>\n",
       "      <td>9.466667</td>\n",
       "    </tr>\n",
       "    <tr>\n",
       "      <th>4</th>\n",
       "      <td>1997-07-07</td>\n",
       "      <td>8:40</td>\n",
       "      <td>RADECKE AVE.</td>\n",
       "      <td>(39.33036, -76.53478)</td>\n",
       "      <td>9.5</td>\n",
       "      <td>1997</td>\n",
       "      <td>39.33036</td>\n",
       "      <td>-76.53478</td>\n",
       "      <td>21206</td>\n",
       "      <td>4.143026</td>\n",
       "      <td>9.000000</td>\n",
       "      <td>10.000000</td>\n",
       "    </tr>\n",
       "  </tbody>\n",
       "</table>\n",
       "</div>"
      ],
      "text/plain": [
       "        date   time       station        stationLocation  leadScore  year  \\\n",
       "0 1997-05-09   9:50  RADECKE AVE.  (39.33036, -76.53478)        9.5  1997   \n",
       "1 1997-05-09   9:50  RADECKE AVE.  (39.33036, -76.53478)        9.5  1997   \n",
       "2 1997-06-09  11:35  RADECKE AVE.  (39.33036, -76.53478)        9.5  1997   \n",
       "3 1997-06-09  11:35  RADECKE AVE.  (39.33036, -76.53478)        9.5  1997   \n",
       "4 1997-07-07   8:40  RADECKE AVE.  (39.33036, -76.53478)        9.5  1997   \n",
       "\n",
       "        LAT      LONG    ZIP  oxyScore   pHscore    ssScore  \n",
       "0  39.33036 -76.53478  21206  5.141844  9.280000   9.733333  \n",
       "1  39.33036 -76.53478  21206  5.141844  9.280000   9.200000  \n",
       "2  39.33036 -76.53478  21206  5.295508  9.893333   9.600000  \n",
       "3  39.33036 -76.53478  21206  5.295508  9.893333   9.466667  \n",
       "4  39.33036 -76.53478  21206  4.143026  9.000000  10.000000  "
      ]
     },
     "execution_count": 270,
     "metadata": {},
     "output_type": "execute_result"
    }
   ],
   "source": [
    "df_waterPollution.head()"
   ]
  },
  {
   "cell_type": "code",
   "execution_count": 271,
   "metadata": {},
   "outputs": [],
   "source": [
    "df_waterPollution['water_score']=df_waterPollution['oxyScore']+df_waterPollution['pHscore']+df_waterPollution['leadScore']+df_waterPollution['ssScore']"
   ]
  },
  {
   "cell_type": "code",
   "execution_count": 272,
   "metadata": {},
   "outputs": [],
   "source": [
    "df_waterPollution['water_score']=df_waterPollution['water_score']/4"
   ]
  },
  {
   "cell_type": "markdown",
   "metadata": {},
   "source": [
    "## Visualization of water pollution score across baltimore"
   ]
  },
  {
   "cell_type": "code",
   "execution_count": 274,
   "metadata": {},
   "outputs": [
    {
     "name": "stderr",
     "output_type": "stream",
     "text": [
      "C:\\Users\\Rishabh\\Anaconda3\\lib\\site-packages\\scipy\\stats\\stats.py:1713: FutureWarning: Using a non-tuple sequence for multidimensional indexing is deprecated; use `arr[tuple(seq)]` instead of `arr[seq]`. In the future this will be interpreted as an array index, `arr[np.array(seq)]`, which will result either in an error or a different result.\n",
      "  return np.add.reduce(sorted[indexer] * weights, axis=axis) / sumval\n"
     ]
    },
    {
     "data": {
      "text/plain": [
       "<matplotlib.axes._subplots.AxesSubplot at 0x2355c7ccc18>"
      ]
     },
     "execution_count": 274,
     "metadata": {},
     "output_type": "execute_result"
    },
    {
     "data": {
      "image/png": "[encoded data removed]",
      "text/plain": [
       "<Figure size 1080x576 with 1 Axes>"
      ]
     },
     "metadata": {
      "needs_background": "light"
     },
     "output_type": "display_data"
    }
   ],
   "source": [
    "sns.violinplot(data=df_waterPollution, x='year',y='water_score')"
   ]
  },
  {
   "cell_type": "code",
   "execution_count": null,
   "metadata": {},
   "outputs": [],
   "source": []
  }
 ],
 "metadata": {
  "kernelspec": {
   "display_name": "Python 3",
   "language": "python",
   "name": "python3"
  },
  "language_info": {
   "codemirror_mode": {
    "name": "ipython",
    "version": 3
   },
   "file_extension": ".py",
   "mimetype": "text/x-python",
   "name": "python",
   "nbconvert_exporter": "python",
   "pygments_lexer": "ipython3",
   "version": "3.7.0"
  }
 },
 "nbformat": 4,
 "nbformat_minor": 2
}
